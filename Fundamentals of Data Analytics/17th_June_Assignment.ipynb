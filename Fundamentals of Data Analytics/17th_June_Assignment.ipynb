{
 "cells": [
  {
   "cell_type": "markdown",
   "id": "dfd5709b",
   "metadata": {},
   "source": [
    "---\n",
    "# Written by Usama Azhar.\n",
    "# usamaazhar261@gmail.com\n",
    "---\n",
    "### Performing the Task 1: Dataset Selection and Exploration\n",
    "- Search for a time series dataset with a continuous target variable from reputable sources (e.g., \n",
    "Kaggle, UCI Machine Learning Repository, government databases).\n",
    "- The dataset should have at least 1000 data points and multiple features.\n",
    "- The target variable should be `continuous`.\n",
    "- Perform initial `Exploratory Data Analysis`, including `summary statistics` and `data visualizations`."
   ]
  },
  {
   "cell_type": "code",
   "execution_count": null,
   "id": "f8e2a188",
   "metadata": {},
   "outputs": [],
   "source": [
    "# Importing the Main Libraries \n",
    "import pandas as pd \n",
    "import numpy as np\n",
    "import matplotlib.pyplot as plt\n",
    "import seaborn as sns\n",
    "import yfinance as yf"
   ]
  },
  {
   "cell_type": "code",
   "execution_count": 26,
   "id": "651cfb2f",
   "metadata": {},
   "outputs": [
    {
     "name": "stderr",
     "output_type": "stream",
     "text": [
      "[*********************100%***********************]  1 of 1 completed\n"
     ]
    }
   ],
   "source": [
    "# Downloading the market data from Yahoo! Finance'Api \n",
    "df = yf.download('TSLA', start='2010-06-29', end='2023-12-31')"
   ]
  },
  {
   "cell_type": "code",
   "execution_count": 27,
   "id": "52878149",
   "metadata": {},
   "outputs": [
    {
     "data": {
      "application/vnd.microsoft.datawrangler.viewer.v0+json": {
       "columns": [
        {
         "name": "Date",
         "rawType": "datetime64[ns]",
         "type": "datetime"
        },
        {
         "name": "('Close', 'TSLA')",
         "rawType": "float64",
         "type": "float"
        },
        {
         "name": "('High', 'TSLA')",
         "rawType": "float64",
         "type": "float"
        },
        {
         "name": "('Low', 'TSLA')",
         "rawType": "float64",
         "type": "float"
        },
        {
         "name": "('Open', 'TSLA')",
         "rawType": "float64",
         "type": "float"
        },
        {
         "name": "('Volume', 'TSLA')",
         "rawType": "int64",
         "type": "integer"
        }
       ],
       "ref": "6ceba6bb-876b-449a-974c-d22f64ba7f46",
       "rows": [
        [
         "2010-06-29 00:00:00",
         "1.5926669836044312",
         "1.6666669845581055",
         "1.1693329811096191",
         "1.2666670083999634",
         "281494500"
        ],
        [
         "2010-06-30 00:00:00",
         "1.5886670351028442",
         "2.0280001163482666",
         "1.553333044052124",
         "1.7193330526351929",
         "257806500"
        ],
        [
         "2010-07-01 00:00:00",
         "1.4639999866485596",
         "1.7280000448226929",
         "1.3513330221176147",
         "1.6666669845581055",
         "123282000"
        ],
        [
         "2010-07-02 00:00:00",
         "1.2799999713897705",
         "1.5399999618530273",
         "1.24733304977417",
         "1.5333329439163208",
         "77097000"
        ],
        [
         "2010-07-06 00:00:00",
         "1.0740000009536743",
         "1.3333330154418945",
         "1.0553330183029175",
         "1.3333330154418945",
         "103003500"
        ]
       ],
       "shape": {
        "columns": 5,
        "rows": 5
       }
      },
      "text/html": [
       "<div>\n",
       "<style scoped>\n",
       "    .dataframe tbody tr th:only-of-type {\n",
       "        vertical-align: middle;\n",
       "    }\n",
       "\n",
       "    .dataframe tbody tr th {\n",
       "        vertical-align: top;\n",
       "    }\n",
       "\n",
       "    .dataframe thead tr th {\n",
       "        text-align: left;\n",
       "    }\n",
       "\n",
       "    .dataframe thead tr:last-of-type th {\n",
       "        text-align: right;\n",
       "    }\n",
       "</style>\n",
       "<table border=\"1\" class=\"dataframe\">\n",
       "  <thead>\n",
       "    <tr>\n",
       "      <th>Price</th>\n",
       "      <th>Close</th>\n",
       "      <th>High</th>\n",
       "      <th>Low</th>\n",
       "      <th>Open</th>\n",
       "      <th>Volume</th>\n",
       "    </tr>\n",
       "    <tr>\n",
       "      <th>Ticker</th>\n",
       "      <th>TSLA</th>\n",
       "      <th>TSLA</th>\n",
       "      <th>TSLA</th>\n",
       "      <th>TSLA</th>\n",
       "      <th>TSLA</th>\n",
       "    </tr>\n",
       "    <tr>\n",
       "      <th>Date</th>\n",
       "      <th></th>\n",
       "      <th></th>\n",
       "      <th></th>\n",
       "      <th></th>\n",
       "      <th></th>\n",
       "    </tr>\n",
       "  </thead>\n",
       "  <tbody>\n",
       "    <tr>\n",
       "      <th>2010-06-29</th>\n",
       "      <td>1.592667</td>\n",
       "      <td>1.666667</td>\n",
       "      <td>1.169333</td>\n",
       "      <td>1.266667</td>\n",
       "      <td>281494500</td>\n",
       "    </tr>\n",
       "    <tr>\n",
       "      <th>2010-06-30</th>\n",
       "      <td>1.588667</td>\n",
       "      <td>2.028000</td>\n",
       "      <td>1.553333</td>\n",
       "      <td>1.719333</td>\n",
       "      <td>257806500</td>\n",
       "    </tr>\n",
       "    <tr>\n",
       "      <th>2010-07-01</th>\n",
       "      <td>1.464000</td>\n",
       "      <td>1.728000</td>\n",
       "      <td>1.351333</td>\n",
       "      <td>1.666667</td>\n",
       "      <td>123282000</td>\n",
       "    </tr>\n",
       "    <tr>\n",
       "      <th>2010-07-02</th>\n",
       "      <td>1.280000</td>\n",
       "      <td>1.540000</td>\n",
       "      <td>1.247333</td>\n",
       "      <td>1.533333</td>\n",
       "      <td>77097000</td>\n",
       "    </tr>\n",
       "    <tr>\n",
       "      <th>2010-07-06</th>\n",
       "      <td>1.074000</td>\n",
       "      <td>1.333333</td>\n",
       "      <td>1.055333</td>\n",
       "      <td>1.333333</td>\n",
       "      <td>103003500</td>\n",
       "    </tr>\n",
       "  </tbody>\n",
       "</table>\n",
       "</div>"
      ],
      "text/plain": [
       "Price          Close      High       Low      Open     Volume\n",
       "Ticker          TSLA      TSLA      TSLA      TSLA       TSLA\n",
       "Date                                                         \n",
       "2010-06-29  1.592667  1.666667  1.169333  1.266667  281494500\n",
       "2010-06-30  1.588667  2.028000  1.553333  1.719333  257806500\n",
       "2010-07-01  1.464000  1.728000  1.351333  1.666667  123282000\n",
       "2010-07-02  1.280000  1.540000  1.247333  1.533333   77097000\n",
       "2010-07-06  1.074000  1.333333  1.055333  1.333333  103003500"
      ]
     },
     "execution_count": 27,
     "metadata": {},
     "output_type": "execute_result"
    }
   ],
   "source": [
    "# Checking the dataset\n",
    "df.head()"
   ]
  },
  {
   "cell_type": "code",
   "execution_count": 28,
   "id": "97d1d445",
   "metadata": {},
   "outputs": [
    {
     "name": "stdout",
     "output_type": "stream",
     "text": [
      "Original columns: MultiIndex([( 'Close', 'TSLA'),\n",
      "            (  'High', 'TSLA'),\n",
      "            (   'Low', 'TSLA'),\n",
      "            (  'Open', 'TSLA'),\n",
      "            ('Volume', 'TSLA')],\n",
      "           names=['Price', 'Ticker'])\n",
      "\n",
      "New Columns: Index(['Close', 'High', 'Low', 'Open', 'Volume'], dtype='object')\n"
     ]
    }
   ],
   "source": [
    "# The Current dataset column names are Tuples \n",
    "print('Original columns:' , df.columns)\n",
    "\n",
    "# Creating a new list of names by taking the first item(Only Choosing Close, High, Low...)          # If this command were to play multiple times the result would show the index of 0 like only (C,H,L,O,V)  \n",
    "new_column_names = [col[0] for col in df.columns]\n",
    "\n",
    "# Assign the new clean list of names to my dataframe\n",
    "df.columns = new_column_names\n",
    "\n",
    "# Checking the result\n",
    "print('\\nNew Columns:', df.columns)"
   ]
  },
  {
   "cell_type": "code",
   "execution_count": 29,
   "id": "78f122b7",
   "metadata": {},
   "outputs": [
    {
     "data": {
      "application/vnd.microsoft.datawrangler.viewer.v0+json": {
       "columns": [
        {
         "name": "Date",
         "rawType": "datetime64[ns]",
         "type": "datetime"
        },
        {
         "name": "Close",
         "rawType": "float64",
         "type": "float"
        },
        {
         "name": "High",
         "rawType": "float64",
         "type": "float"
        },
        {
         "name": "Low",
         "rawType": "float64",
         "type": "float"
        },
        {
         "name": "Open",
         "rawType": "float64",
         "type": "float"
        },
        {
         "name": "Volume",
         "rawType": "int64",
         "type": "integer"
        }
       ],
       "ref": "71ee383c-70b7-436f-a2e6-04d54d8e9c86",
       "rows": [
        [
         "2010-06-29 00:00:00",
         "1.5926669836044312",
         "1.6666669845581055",
         "1.1693329811096191",
         "1.2666670083999634",
         "281494500"
        ],
        [
         "2010-06-30 00:00:00",
         "1.5886670351028442",
         "2.0280001163482666",
         "1.553333044052124",
         "1.7193330526351929",
         "257806500"
        ],
        [
         "2010-07-01 00:00:00",
         "1.4639999866485596",
         "1.7280000448226929",
         "1.3513330221176147",
         "1.6666669845581055",
         "123282000"
        ],
        [
         "2010-07-02 00:00:00",
         "1.2799999713897705",
         "1.5399999618530273",
         "1.24733304977417",
         "1.5333329439163208",
         "77097000"
        ],
        [
         "2010-07-06 00:00:00",
         "1.0740000009536743",
         "1.3333330154418945",
         "1.0553330183029175",
         "1.3333330154418945",
         "103003500"
        ]
       ],
       "shape": {
        "columns": 5,
        "rows": 5
       }
      },
      "text/html": [
       "<div>\n",
       "<style scoped>\n",
       "    .dataframe tbody tr th:only-of-type {\n",
       "        vertical-align: middle;\n",
       "    }\n",
       "\n",
       "    .dataframe tbody tr th {\n",
       "        vertical-align: top;\n",
       "    }\n",
       "\n",
       "    .dataframe thead th {\n",
       "        text-align: right;\n",
       "    }\n",
       "</style>\n",
       "<table border=\"1\" class=\"dataframe\">\n",
       "  <thead>\n",
       "    <tr style=\"text-align: right;\">\n",
       "      <th></th>\n",
       "      <th>Close</th>\n",
       "      <th>High</th>\n",
       "      <th>Low</th>\n",
       "      <th>Open</th>\n",
       "      <th>Volume</th>\n",
       "    </tr>\n",
       "    <tr>\n",
       "      <th>Date</th>\n",
       "      <th></th>\n",
       "      <th></th>\n",
       "      <th></th>\n",
       "      <th></th>\n",
       "      <th></th>\n",
       "    </tr>\n",
       "  </thead>\n",
       "  <tbody>\n",
       "    <tr>\n",
       "      <th>2010-06-29</th>\n",
       "      <td>1.592667</td>\n",
       "      <td>1.666667</td>\n",
       "      <td>1.169333</td>\n",
       "      <td>1.266667</td>\n",
       "      <td>281494500</td>\n",
       "    </tr>\n",
       "    <tr>\n",
       "      <th>2010-06-30</th>\n",
       "      <td>1.588667</td>\n",
       "      <td>2.028000</td>\n",
       "      <td>1.553333</td>\n",
       "      <td>1.719333</td>\n",
       "      <td>257806500</td>\n",
       "    </tr>\n",
       "    <tr>\n",
       "      <th>2010-07-01</th>\n",
       "      <td>1.464000</td>\n",
       "      <td>1.728000</td>\n",
       "      <td>1.351333</td>\n",
       "      <td>1.666667</td>\n",
       "      <td>123282000</td>\n",
       "    </tr>\n",
       "    <tr>\n",
       "      <th>2010-07-02</th>\n",
       "      <td>1.280000</td>\n",
       "      <td>1.540000</td>\n",
       "      <td>1.247333</td>\n",
       "      <td>1.533333</td>\n",
       "      <td>77097000</td>\n",
       "    </tr>\n",
       "    <tr>\n",
       "      <th>2010-07-06</th>\n",
       "      <td>1.074000</td>\n",
       "      <td>1.333333</td>\n",
       "      <td>1.055333</td>\n",
       "      <td>1.333333</td>\n",
       "      <td>103003500</td>\n",
       "    </tr>\n",
       "  </tbody>\n",
       "</table>\n",
       "</div>"
      ],
      "text/plain": [
       "               Close      High       Low      Open     Volume\n",
       "Date                                                         \n",
       "2010-06-29  1.592667  1.666667  1.169333  1.266667  281494500\n",
       "2010-06-30  1.588667  2.028000  1.553333  1.719333  257806500\n",
       "2010-07-01  1.464000  1.728000  1.351333  1.666667  123282000\n",
       "2010-07-02  1.280000  1.540000  1.247333  1.533333   77097000\n",
       "2010-07-06  1.074000  1.333333  1.055333  1.333333  103003500"
      ]
     },
     "execution_count": 29,
     "metadata": {},
     "output_type": "execute_result"
    }
   ],
   "source": [
    "# Checking the dataset again\n",
    "df.head()"
   ]
  },
  {
   "cell_type": "code",
   "execution_count": 30,
   "id": "175f7248",
   "metadata": {},
   "outputs": [
    {
     "name": "stdout",
     "output_type": "stream",
     "text": [
      "            Closing Price  Daily High  Daily Low  Daily Open     Volume\n",
      "Date                                                                   \n",
      "2010-06-29       1.592667    1.666667   1.169333    1.266667  281494500\n",
      "2010-06-30       1.588667    2.028000   1.553333    1.719333  257806500\n",
      "2010-07-01       1.464000    1.728000   1.351333    1.666667  123282000\n",
      "2010-07-02       1.280000    1.540000   1.247333    1.533333   77097000\n",
      "2010-07-06       1.074000    1.333333   1.055333    1.333333  103003500\n"
     ]
    }
   ],
   "source": [
    "# Here, I naming the column names by using dictionary method\n",
    "# Creating the dictionary for changing column names\n",
    "renamed_dict = {\n",
    "    'Close': 'Closing Price',\n",
    "    'High': 'Daily High',\n",
    "    'Low': 'Daily Low',\n",
    "    'Open': 'Daily Open',\n",
    "    'Volume': 'Volume'\n",
    "}\n",
    "\n",
    "df_renamed_columns = df.rename(columns=renamed_dict)            # Assign the new columns to my dataframe\n",
    "\n",
    "print(df_renamed_columns.head())            #Here, checking the result"
   ]
  },
  {
   "cell_type": "code",
   "execution_count": 31,
   "id": "a2f36842",
   "metadata": {},
   "outputs": [
    {
     "data": {
      "application/vnd.microsoft.datawrangler.viewer.v0+json": {
       "columns": [
        {
         "name": "Date",
         "rawType": "datetime64[ns]",
         "type": "datetime"
        },
        {
         "name": "Closing Price",
         "rawType": "float64",
         "type": "float"
        },
        {
         "name": "Daily High",
         "rawType": "float64",
         "type": "float"
        },
        {
         "name": "Daily Low",
         "rawType": "float64",
         "type": "float"
        },
        {
         "name": "Daily Open",
         "rawType": "float64",
         "type": "float"
        },
        {
         "name": "Volume",
         "rawType": "int64",
         "type": "integer"
        }
       ],
       "ref": "848801da-c519-4fc7-8c71-b1b94f3a7707",
       "rows": [
        [
         "2010-06-29 00:00:00",
         "1.5926669836044312",
         "1.6666669845581055",
         "1.1693329811096191",
         "1.2666670083999634",
         "281494500"
        ],
        [
         "2010-06-30 00:00:00",
         "1.5886670351028442",
         "2.0280001163482666",
         "1.553333044052124",
         "1.7193330526351929",
         "257806500"
        ],
        [
         "2010-07-01 00:00:00",
         "1.4639999866485596",
         "1.7280000448226929",
         "1.3513330221176147",
         "1.6666669845581055",
         "123282000"
        ],
        [
         "2010-07-02 00:00:00",
         "1.2799999713897705",
         "1.5399999618530273",
         "1.24733304977417",
         "1.5333329439163208",
         "77097000"
        ],
        [
         "2010-07-06 00:00:00",
         "1.0740000009536743",
         "1.3333330154418945",
         "1.0553330183029175",
         "1.3333330154418945",
         "103003500"
        ]
       ],
       "shape": {
        "columns": 5,
        "rows": 5
       }
      },
      "text/html": [
       "<div>\n",
       "<style scoped>\n",
       "    .dataframe tbody tr th:only-of-type {\n",
       "        vertical-align: middle;\n",
       "    }\n",
       "\n",
       "    .dataframe tbody tr th {\n",
       "        vertical-align: top;\n",
       "    }\n",
       "\n",
       "    .dataframe thead th {\n",
       "        text-align: right;\n",
       "    }\n",
       "</style>\n",
       "<table border=\"1\" class=\"dataframe\">\n",
       "  <thead>\n",
       "    <tr style=\"text-align: right;\">\n",
       "      <th></th>\n",
       "      <th>Closing Price</th>\n",
       "      <th>Daily High</th>\n",
       "      <th>Daily Low</th>\n",
       "      <th>Daily Open</th>\n",
       "      <th>Volume</th>\n",
       "    </tr>\n",
       "    <tr>\n",
       "      <th>Date</th>\n",
       "      <th></th>\n",
       "      <th></th>\n",
       "      <th></th>\n",
       "      <th></th>\n",
       "      <th></th>\n",
       "    </tr>\n",
       "  </thead>\n",
       "  <tbody>\n",
       "    <tr>\n",
       "      <th>2010-06-29</th>\n",
       "      <td>1.592667</td>\n",
       "      <td>1.666667</td>\n",
       "      <td>1.169333</td>\n",
       "      <td>1.266667</td>\n",
       "      <td>281494500</td>\n",
       "    </tr>\n",
       "    <tr>\n",
       "      <th>2010-06-30</th>\n",
       "      <td>1.588667</td>\n",
       "      <td>2.028000</td>\n",
       "      <td>1.553333</td>\n",
       "      <td>1.719333</td>\n",
       "      <td>257806500</td>\n",
       "    </tr>\n",
       "    <tr>\n",
       "      <th>2010-07-01</th>\n",
       "      <td>1.464000</td>\n",
       "      <td>1.728000</td>\n",
       "      <td>1.351333</td>\n",
       "      <td>1.666667</td>\n",
       "      <td>123282000</td>\n",
       "    </tr>\n",
       "    <tr>\n",
       "      <th>2010-07-02</th>\n",
       "      <td>1.280000</td>\n",
       "      <td>1.540000</td>\n",
       "      <td>1.247333</td>\n",
       "      <td>1.533333</td>\n",
       "      <td>77097000</td>\n",
       "    </tr>\n",
       "    <tr>\n",
       "      <th>2010-07-06</th>\n",
       "      <td>1.074000</td>\n",
       "      <td>1.333333</td>\n",
       "      <td>1.055333</td>\n",
       "      <td>1.333333</td>\n",
       "      <td>103003500</td>\n",
       "    </tr>\n",
       "  </tbody>\n",
       "</table>\n",
       "</div>"
      ],
      "text/plain": [
       "            Closing Price  Daily High  Daily Low  Daily Open     Volume\n",
       "Date                                                                   \n",
       "2010-06-29       1.592667    1.666667   1.169333    1.266667  281494500\n",
       "2010-06-30       1.588667    2.028000   1.553333    1.719333  257806500\n",
       "2010-07-01       1.464000    1.728000   1.351333    1.666667  123282000\n",
       "2010-07-02       1.280000    1.540000   1.247333    1.533333   77097000\n",
       "2010-07-06       1.074000    1.333333   1.055333    1.333333  103003500"
      ]
     },
     "execution_count": 31,
     "metadata": {},
     "output_type": "execute_result"
    }
   ],
   "source": [
    "# Successfully done renaming the columns\n",
    "df_renamed_columns.head()"
   ]
  },
  {
   "cell_type": "code",
   "execution_count": 32,
   "id": "8b6b9808",
   "metadata": {},
   "outputs": [
    {
     "name": "stdout",
     "output_type": "stream",
     "text": [
      "DataFrame after resetting index:\n",
      "        Date  Closing Price  Daily High  Daily Low  Daily Open     Volume\n",
      "0 2010-06-29       1.592667    1.666667   1.169333    1.266667  281494500\n",
      "1 2010-06-30       1.588667    2.028000   1.553333    1.719333  257806500\n",
      "2 2010-07-01       1.464000    1.728000   1.351333    1.666667  123282000\n",
      "3 2010-07-02       1.280000    1.540000   1.247333    1.533333   77097000\n",
      "4 2010-07-06       1.074000    1.333333   1.055333    1.333333  103003500\n"
     ]
    }
   ],
   "source": [
    "# Saving the Dataset to csv file \n",
    "# Reseting the index, So i can preserve the Date Column\n",
    "df_with_date_column = df_renamed_columns.reset_index()\n",
    "\n",
    "# cross verifying\n",
    "print(\"DataFrame after resetting index:\")\n",
    "print(df_with_date_column.head())\n",
    "\n",
    "# Saving the dataset \n",
    "file_name = 'Stock_Data.csv'\n",
    "df_with_date_column.to_csv(file_name, index=False)"
   ]
  },
  {
   "cell_type": "code",
   "execution_count": 33,
   "id": "88ce7af4",
   "metadata": {},
   "outputs": [
    {
     "data": {
      "application/vnd.microsoft.datawrangler.viewer.v0+json": {
       "columns": [
        {
         "name": "index",
         "rawType": "int64",
         "type": "integer"
        },
        {
         "name": "Date",
         "rawType": "object",
         "type": "string"
        },
        {
         "name": "Closing Price",
         "rawType": "float64",
         "type": "float"
        },
        {
         "name": "Daily High",
         "rawType": "float64",
         "type": "float"
        },
        {
         "name": "Daily Low",
         "rawType": "float64",
         "type": "float"
        },
        {
         "name": "Daily Open",
         "rawType": "float64",
         "type": "float"
        },
        {
         "name": "Volume",
         "rawType": "int64",
         "type": "integer"
        }
       ],
       "ref": "31c69da4-0aad-45f6-afad-9e887a980d9b",
       "rows": [
        [
         "0",
         "2010-06-29",
         "1.5926669836044312",
         "1.6666669845581057",
         "1.1693329811096191",
         "1.2666670083999634",
         "281494500"
        ],
        [
         "1",
         "2010-06-30",
         "1.5886670351028442",
         "2.0280001163482666",
         "1.553333044052124",
         "1.7193330526351929",
         "257806500"
        ],
        [
         "2",
         "2010-07-01",
         "1.4639999866485596",
         "1.7280000448226929",
         "1.3513330221176147",
         "1.6666669845581057",
         "123282000"
        ],
        [
         "3",
         "2010-07-02",
         "1.2799999713897705",
         "1.5399999618530271",
         "1.24733304977417",
         "1.5333329439163208",
         "77097000"
        ],
        [
         "4",
         "2010-07-06",
         "1.0740000009536743",
         "1.3333330154418943",
         "1.0553330183029177",
         "1.3333330154418943",
         "103003500"
        ]
       ],
       "shape": {
        "columns": 6,
        "rows": 5
       }
      },
      "text/html": [
       "<div>\n",
       "<style scoped>\n",
       "    .dataframe tbody tr th:only-of-type {\n",
       "        vertical-align: middle;\n",
       "    }\n",
       "\n",
       "    .dataframe tbody tr th {\n",
       "        vertical-align: top;\n",
       "    }\n",
       "\n",
       "    .dataframe thead th {\n",
       "        text-align: right;\n",
       "    }\n",
       "</style>\n",
       "<table border=\"1\" class=\"dataframe\">\n",
       "  <thead>\n",
       "    <tr style=\"text-align: right;\">\n",
       "      <th></th>\n",
       "      <th>Date</th>\n",
       "      <th>Closing Price</th>\n",
       "      <th>Daily High</th>\n",
       "      <th>Daily Low</th>\n",
       "      <th>Daily Open</th>\n",
       "      <th>Volume</th>\n",
       "    </tr>\n",
       "  </thead>\n",
       "  <tbody>\n",
       "    <tr>\n",
       "      <th>0</th>\n",
       "      <td>2010-06-29</td>\n",
       "      <td>1.592667</td>\n",
       "      <td>1.666667</td>\n",
       "      <td>1.169333</td>\n",
       "      <td>1.266667</td>\n",
       "      <td>281494500</td>\n",
       "    </tr>\n",
       "    <tr>\n",
       "      <th>1</th>\n",
       "      <td>2010-06-30</td>\n",
       "      <td>1.588667</td>\n",
       "      <td>2.028000</td>\n",
       "      <td>1.553333</td>\n",
       "      <td>1.719333</td>\n",
       "      <td>257806500</td>\n",
       "    </tr>\n",
       "    <tr>\n",
       "      <th>2</th>\n",
       "      <td>2010-07-01</td>\n",
       "      <td>1.464000</td>\n",
       "      <td>1.728000</td>\n",
       "      <td>1.351333</td>\n",
       "      <td>1.666667</td>\n",
       "      <td>123282000</td>\n",
       "    </tr>\n",
       "    <tr>\n",
       "      <th>3</th>\n",
       "      <td>2010-07-02</td>\n",
       "      <td>1.280000</td>\n",
       "      <td>1.540000</td>\n",
       "      <td>1.247333</td>\n",
       "      <td>1.533333</td>\n",
       "      <td>77097000</td>\n",
       "    </tr>\n",
       "    <tr>\n",
       "      <th>4</th>\n",
       "      <td>2010-07-06</td>\n",
       "      <td>1.074000</td>\n",
       "      <td>1.333333</td>\n",
       "      <td>1.055333</td>\n",
       "      <td>1.333333</td>\n",
       "      <td>103003500</td>\n",
       "    </tr>\n",
       "  </tbody>\n",
       "</table>\n",
       "</div>"
      ],
      "text/plain": [
       "         Date  Closing Price  Daily High  Daily Low  Daily Open     Volume\n",
       "0  2010-06-29       1.592667    1.666667   1.169333    1.266667  281494500\n",
       "1  2010-06-30       1.588667    2.028000   1.553333    1.719333  257806500\n",
       "2  2010-07-01       1.464000    1.728000   1.351333    1.666667  123282000\n",
       "3  2010-07-02       1.280000    1.540000   1.247333    1.533333   77097000\n",
       "4  2010-07-06       1.074000    1.333333   1.055333    1.333333  103003500"
      ]
     },
     "execution_count": 33,
     "metadata": {},
     "output_type": "execute_result"
    }
   ],
   "source": [
    "# Fetching our dataset using the pandas library\n",
    "Data = pd.read_csv('Stock_Data.csv')\n",
    "Data.head()"
   ]
  },
  {
   "cell_type": "code",
   "execution_count": 34,
   "id": "f750ad21",
   "metadata": {},
   "outputs": [
    {
     "data": {
      "application/vnd.microsoft.datawrangler.viewer.v0+json": {
       "columns": [
        {
         "name": "index",
         "rawType": "int64",
         "type": "integer"
        },
        {
         "name": "Date",
         "rawType": "object",
         "type": "string"
        },
        {
         "name": "Closing Price",
         "rawType": "float64",
         "type": "float"
        },
        {
         "name": "Daily High",
         "rawType": "float64",
         "type": "float"
        },
        {
         "name": "Daily Low",
         "rawType": "float64",
         "type": "float"
        },
        {
         "name": "Daily Open",
         "rawType": "float64",
         "type": "float"
        },
        {
         "name": "Volume",
         "rawType": "int64",
         "type": "integer"
        }
       ],
       "ref": "6c31b9b4-fce3-4e43-8b51-77a7bd1fc89b",
       "rows": [
        [
         "3395",
         "2023-12-22",
         "252.5399932861328",
         "258.2200012207031",
         "251.3699951171875",
         "256.760009765625",
         "93249800"
        ],
        [
         "3396",
         "2023-12-26",
         "256.6099853515625",
         "257.9700012207031",
         "252.91000366210935",
         "254.4900054931641",
         "86892400"
        ],
        [
         "3397",
         "2023-12-27",
         "261.44000244140625",
         "263.3399963378906",
         "257.5199890136719",
         "258.3500061035156",
         "106494400"
        ],
        [
         "3398",
         "2023-12-28",
         "253.17999267578125",
         "265.1300048828125",
         "252.7100067138672",
         "263.6600036621094",
         "113619900"
        ],
        [
         "3399",
         "2023-12-29",
         "248.47999572753903",
         "255.19000244140625",
         "247.42999267578125",
         "255.1000061035156",
         "100615300"
        ]
       ],
       "shape": {
        "columns": 6,
        "rows": 5
       }
      },
      "text/html": [
       "<div>\n",
       "<style scoped>\n",
       "    .dataframe tbody tr th:only-of-type {\n",
       "        vertical-align: middle;\n",
       "    }\n",
       "\n",
       "    .dataframe tbody tr th {\n",
       "        vertical-align: top;\n",
       "    }\n",
       "\n",
       "    .dataframe thead th {\n",
       "        text-align: right;\n",
       "    }\n",
       "</style>\n",
       "<table border=\"1\" class=\"dataframe\">\n",
       "  <thead>\n",
       "    <tr style=\"text-align: right;\">\n",
       "      <th></th>\n",
       "      <th>Date</th>\n",
       "      <th>Closing Price</th>\n",
       "      <th>Daily High</th>\n",
       "      <th>Daily Low</th>\n",
       "      <th>Daily Open</th>\n",
       "      <th>Volume</th>\n",
       "    </tr>\n",
       "  </thead>\n",
       "  <tbody>\n",
       "    <tr>\n",
       "      <th>3395</th>\n",
       "      <td>2023-12-22</td>\n",
       "      <td>252.539993</td>\n",
       "      <td>258.220001</td>\n",
       "      <td>251.369995</td>\n",
       "      <td>256.760010</td>\n",
       "      <td>93249800</td>\n",
       "    </tr>\n",
       "    <tr>\n",
       "      <th>3396</th>\n",
       "      <td>2023-12-26</td>\n",
       "      <td>256.609985</td>\n",
       "      <td>257.970001</td>\n",
       "      <td>252.910004</td>\n",
       "      <td>254.490005</td>\n",
       "      <td>86892400</td>\n",
       "    </tr>\n",
       "    <tr>\n",
       "      <th>3397</th>\n",
       "      <td>2023-12-27</td>\n",
       "      <td>261.440002</td>\n",
       "      <td>263.339996</td>\n",
       "      <td>257.519989</td>\n",
       "      <td>258.350006</td>\n",
       "      <td>106494400</td>\n",
       "    </tr>\n",
       "    <tr>\n",
       "      <th>3398</th>\n",
       "      <td>2023-12-28</td>\n",
       "      <td>253.179993</td>\n",
       "      <td>265.130005</td>\n",
       "      <td>252.710007</td>\n",
       "      <td>263.660004</td>\n",
       "      <td>113619900</td>\n",
       "    </tr>\n",
       "    <tr>\n",
       "      <th>3399</th>\n",
       "      <td>2023-12-29</td>\n",
       "      <td>248.479996</td>\n",
       "      <td>255.190002</td>\n",
       "      <td>247.429993</td>\n",
       "      <td>255.100006</td>\n",
       "      <td>100615300</td>\n",
       "    </tr>\n",
       "  </tbody>\n",
       "</table>\n",
       "</div>"
      ],
      "text/plain": [
       "            Date  Closing Price  Daily High   Daily Low  Daily Open     Volume\n",
       "3395  2023-12-22     252.539993  258.220001  251.369995  256.760010   93249800\n",
       "3396  2023-12-26     256.609985  257.970001  252.910004  254.490005   86892400\n",
       "3397  2023-12-27     261.440002  263.339996  257.519989  258.350006  106494400\n",
       "3398  2023-12-28     253.179993  265.130005  252.710007  263.660004  113619900\n",
       "3399  2023-12-29     248.479996  255.190002  247.429993  255.100006  100615300"
      ]
     },
     "execution_count": 34,
     "metadata": {},
     "output_type": "execute_result"
    }
   ],
   "source": [
    "Data.tail()"
   ]
  },
  {
   "cell_type": "code",
   "execution_count": 35,
   "id": "ef3e9f59",
   "metadata": {},
   "outputs": [
    {
     "name": "stdout",
     "output_type": "stream",
     "text": [
      "<class 'pandas.core.frame.DataFrame'>\n",
      "RangeIndex: 3400 entries, 0 to 3399\n",
      "Data columns (total 6 columns):\n",
      " #   Column         Non-Null Count  Dtype  \n",
      "---  ------         --------------  -----  \n",
      " 0   Date           3400 non-null   object \n",
      " 1   Closing Price  3400 non-null   float64\n",
      " 2   Daily High     3400 non-null   float64\n",
      " 3   Daily Low      3400 non-null   float64\n",
      " 4   Daily Open     3400 non-null   float64\n",
      " 5   Volume         3400 non-null   int64  \n",
      "dtypes: float64(4), int64(1), object(1)\n",
      "memory usage: 159.5+ KB\n"
     ]
    }
   ],
   "source": [
    "# this pandas function provides the consice summary of the dataframe\n",
    "Data.info()"
   ]
  },
  {
   "cell_type": "code",
   "execution_count": 36,
   "id": "5cd295fb",
   "metadata": {},
   "outputs": [
    {
     "data": {
      "application/vnd.microsoft.datawrangler.viewer.v0+json": {
       "columns": [
        {
         "name": "index",
         "rawType": "object",
         "type": "string"
        },
        {
         "name": "Closing Price",
         "rawType": "float64",
         "type": "float"
        },
        {
         "name": "Daily High",
         "rawType": "float64",
         "type": "float"
        },
        {
         "name": "Daily Low",
         "rawType": "float64",
         "type": "float"
        },
        {
         "name": "Daily Open",
         "rawType": "float64",
         "type": "float"
        },
        {
         "name": "Volume",
         "rawType": "float64",
         "type": "float"
        }
       ],
       "ref": "f4992c2c-c39e-4141-8384-575456b6f749",
       "rows": [
        [
         "count",
         "3400.0",
         "3400.0",
         "3400.0",
         "3400.0",
         "3400.0"
        ],
        [
         "mean",
         "70.47424153650508",
         "72.048392902788",
         "68.81997310957487",
         "70.49399334704175",
         "96811665.3235294"
        ],
        [
         "std",
         "101.48083130606999",
         "103.82494901871584",
         "99.06638555840274",
         "101.55906143112495",
         "80048483.5459433"
        ],
        [
         "min",
         "1.053333044052124",
         "1.108667016029358",
         "0.9986670017242432",
         "1.0759999752044678",
         "1777500.0"
        ],
        [
         "25%",
         "10.779833316802979",
         "11.014166593551636",
         "10.417332649230957",
         "10.722500085830688",
         "45987750.0"
        ],
        [
         "50%",
         "16.92866611480713",
         "17.218667030334473",
         "16.679333686828613",
         "16.944000244140625",
         "81225000.0"
        ],
        [
         "75%",
         "108.3499984741211",
         "111.96249961853027",
         "104.22099876403809",
         "109.58399963378906",
         "123524900.0"
        ],
        [
         "max",
         "409.9700012207031",
         "414.4966735839844",
         "405.6666564941406",
         "411.4700012207031",
         "914082000.0"
        ]
       ],
       "shape": {
        "columns": 5,
        "rows": 8
       }
      },
      "text/html": [
       "<div>\n",
       "<style scoped>\n",
       "    .dataframe tbody tr th:only-of-type {\n",
       "        vertical-align: middle;\n",
       "    }\n",
       "\n",
       "    .dataframe tbody tr th {\n",
       "        vertical-align: top;\n",
       "    }\n",
       "\n",
       "    .dataframe thead th {\n",
       "        text-align: right;\n",
       "    }\n",
       "</style>\n",
       "<table border=\"1\" class=\"dataframe\">\n",
       "  <thead>\n",
       "    <tr style=\"text-align: right;\">\n",
       "      <th></th>\n",
       "      <th>Closing Price</th>\n",
       "      <th>Daily High</th>\n",
       "      <th>Daily Low</th>\n",
       "      <th>Daily Open</th>\n",
       "      <th>Volume</th>\n",
       "    </tr>\n",
       "  </thead>\n",
       "  <tbody>\n",
       "    <tr>\n",
       "      <th>count</th>\n",
       "      <td>3400.000000</td>\n",
       "      <td>3400.000000</td>\n",
       "      <td>3400.000000</td>\n",
       "      <td>3400.000000</td>\n",
       "      <td>3.400000e+03</td>\n",
       "    </tr>\n",
       "    <tr>\n",
       "      <th>mean</th>\n",
       "      <td>70.474242</td>\n",
       "      <td>72.048393</td>\n",
       "      <td>68.819973</td>\n",
       "      <td>70.493993</td>\n",
       "      <td>9.681167e+07</td>\n",
       "    </tr>\n",
       "    <tr>\n",
       "      <th>std</th>\n",
       "      <td>101.480831</td>\n",
       "      <td>103.824949</td>\n",
       "      <td>99.066386</td>\n",
       "      <td>101.559061</td>\n",
       "      <td>8.004848e+07</td>\n",
       "    </tr>\n",
       "    <tr>\n",
       "      <th>min</th>\n",
       "      <td>1.053333</td>\n",
       "      <td>1.108667</td>\n",
       "      <td>0.998667</td>\n",
       "      <td>1.076000</td>\n",
       "      <td>1.777500e+06</td>\n",
       "    </tr>\n",
       "    <tr>\n",
       "      <th>25%</th>\n",
       "      <td>10.779833</td>\n",
       "      <td>11.014167</td>\n",
       "      <td>10.417333</td>\n",
       "      <td>10.722500</td>\n",
       "      <td>4.598775e+07</td>\n",
       "    </tr>\n",
       "    <tr>\n",
       "      <th>50%</th>\n",
       "      <td>16.928666</td>\n",
       "      <td>17.218667</td>\n",
       "      <td>16.679334</td>\n",
       "      <td>16.944000</td>\n",
       "      <td>8.122500e+07</td>\n",
       "    </tr>\n",
       "    <tr>\n",
       "      <th>75%</th>\n",
       "      <td>108.349998</td>\n",
       "      <td>111.962500</td>\n",
       "      <td>104.220999</td>\n",
       "      <td>109.584000</td>\n",
       "      <td>1.235249e+08</td>\n",
       "    </tr>\n",
       "    <tr>\n",
       "      <th>max</th>\n",
       "      <td>409.970001</td>\n",
       "      <td>414.496674</td>\n",
       "      <td>405.666656</td>\n",
       "      <td>411.470001</td>\n",
       "      <td>9.140820e+08</td>\n",
       "    </tr>\n",
       "  </tbody>\n",
       "</table>\n",
       "</div>"
      ],
      "text/plain": [
       "       Closing Price   Daily High    Daily Low   Daily Open        Volume\n",
       "count    3400.000000  3400.000000  3400.000000  3400.000000  3.400000e+03\n",
       "mean       70.474242    72.048393    68.819973    70.493993  9.681167e+07\n",
       "std       101.480831   103.824949    99.066386   101.559061  8.004848e+07\n",
       "min         1.053333     1.108667     0.998667     1.076000  1.777500e+06\n",
       "25%        10.779833    11.014167    10.417333    10.722500  4.598775e+07\n",
       "50%        16.928666    17.218667    16.679334    16.944000  8.122500e+07\n",
       "75%       108.349998   111.962500   104.220999   109.584000  1.235249e+08\n",
       "max       409.970001   414.496674   405.666656   411.470001  9.140820e+08"
      ]
     },
     "execution_count": 36,
     "metadata": {},
     "output_type": "execute_result"
    }
   ],
   "source": [
    "# Providing the Summary Statistics or descriptive statistics for our numerical columns \n",
    "Data.describe()"
   ]
  },
  {
   "cell_type": "code",
   "execution_count": 37,
   "id": "ebae9f47",
   "metadata": {},
   "outputs": [
    {
     "data": {
      "text/plain": [
       "(3400, 6)"
      ]
     },
     "execution_count": 37,
     "metadata": {},
     "output_type": "execute_result"
    }
   ],
   "source": [
    "# Checking the dataframe's dimensionality\n",
    "# How many rows and Columns\n",
    "Data.shape"
   ]
  },
  {
   "cell_type": "code",
   "execution_count": 38,
   "id": "e1727931",
   "metadata": {},
   "outputs": [
    {
     "data": {
      "text/plain": [
       "Index(['Date', 'Closing Price', 'Daily High', 'Daily Low', 'Daily Open',\n",
       "       'Volume'],\n",
       "      dtype='object')"
      ]
     },
     "execution_count": 38,
     "metadata": {},
     "output_type": "execute_result"
    }
   ],
   "source": [
    "Data.columns"
   ]
  },
  {
   "cell_type": "code",
   "execution_count": 39,
   "id": "2fddaa2c",
   "metadata": {},
   "outputs": [
    {
     "data": {
      "application/vnd.microsoft.datawrangler.viewer.v0+json": {
       "columns": [
        {
         "name": "index",
         "rawType": "object",
         "type": "string"
        },
        {
         "name": "0",
         "rawType": "object",
         "type": "unknown"
        }
       ],
       "ref": "39529db0-510f-43a6-87c7-422c883e4a14",
       "rows": [
        [
         "Date",
         "object"
        ],
        [
         "Closing Price",
         "float64"
        ],
        [
         "Daily High",
         "float64"
        ],
        [
         "Daily Low",
         "float64"
        ],
        [
         "Daily Open",
         "float64"
        ],
        [
         "Volume",
         "int64"
        ]
       ],
       "shape": {
        "columns": 1,
        "rows": 6
       }
      },
      "text/plain": [
       "Date              object\n",
       "Closing Price    float64\n",
       "Daily High       float64\n",
       "Daily Low        float64\n",
       "Daily Open       float64\n",
       "Volume             int64\n",
       "dtype: object"
      ]
     },
     "execution_count": 39,
     "metadata": {},
     "output_type": "execute_result"
    }
   ],
   "source": [
    "# Our dataframe's columns data types\n",
    "Data.dtypes"
   ]
  },
  {
   "cell_type": "code",
   "execution_count": 40,
   "id": "8ab632a5",
   "metadata": {},
   "outputs": [],
   "source": [
    "# Date Column dtype is Object\n",
    "# I convert it Datetime 'to Calender Dates'\n",
    "\n",
    "Data['Date'] = pd.to_datetime(Data['Date'], errors='coerce')            # Here, I select the only column in our dataframe and use the pandas.to_ function \n",
    "# Errors coerce means if it were not able to convert into Date, it will put a NaN but in our case Nat(Not a time) value"
   ]
  },
  {
   "cell_type": "code",
   "execution_count": 41,
   "id": "3fceed25",
   "metadata": {},
   "outputs": [
    {
     "name": "stdout",
     "output_type": "stream",
     "text": [
      "<class 'pandas.core.frame.DataFrame'>\n",
      "RangeIndex: 3400 entries, 0 to 3399\n",
      "Data columns (total 6 columns):\n",
      " #   Column         Non-Null Count  Dtype         \n",
      "---  ------         --------------  -----         \n",
      " 0   Date           3400 non-null   datetime64[ns]\n",
      " 1   Closing Price  3400 non-null   float64       \n",
      " 2   Daily High     3400 non-null   float64       \n",
      " 3   Daily Low      3400 non-null   float64       \n",
      " 4   Daily Open     3400 non-null   float64       \n",
      " 5   Volume         3400 non-null   int64         \n",
      "dtypes: datetime64[ns](1), float64(4), int64(1)\n",
      "memory usage: 159.5 KB\n"
     ]
    }
   ],
   "source": [
    "# Checking Here\n",
    "Data.info()\n",
    "# WE can see, the 'Date' column's datatype has been successfully converted to datetime64[ns]. (ns=nanoseconds)"
   ]
  },
  {
   "cell_type": "code",
   "execution_count": 42,
   "id": "26634f16",
   "metadata": {},
   "outputs": [
    {
     "data": {
      "application/vnd.microsoft.datawrangler.viewer.v0+json": {
       "columns": [
        {
         "name": "index",
         "rawType": "object",
         "type": "string"
        },
        {
         "name": "0",
         "rawType": "int64",
         "type": "integer"
        }
       ],
       "ref": "23ea3cfa-8fdf-4ddb-ae64-438cfed4149c",
       "rows": [
        [
         "Date",
         "0"
        ],
        [
         "Closing Price",
         "0"
        ],
        [
         "Daily High",
         "0"
        ],
        [
         "Daily Low",
         "0"
        ],
        [
         "Daily Open",
         "0"
        ],
        [
         "Volume",
         "0"
        ]
       ],
       "shape": {
        "columns": 1,
        "rows": 6
       }
      },
      "text/plain": [
       "Date             0\n",
       "Closing Price    0\n",
       "Daily High       0\n",
       "Daily Low        0\n",
       "Daily Open       0\n",
       "Volume           0\n",
       "dtype: int64"
      ]
     },
     "execution_count": 42,
     "metadata": {},
     "output_type": "execute_result"
    }
   ],
   "source": [
    "# There are no missing/null values in our dataset\n",
    "Data.isnull().sum()"
   ]
  },
  {
   "cell_type": "code",
   "execution_count": 43,
   "id": "e2ea228e",
   "metadata": {},
   "outputs": [],
   "source": [
    "# Creating the Target Variable. Why? It's to make things easiear what if I were to change my Continous Variable, then i just have to change the value. \n",
    "# Choosing my Target Variable(Continous Variable). Continous VAriable means numeric value\n",
    "target_variable = 'Closing Price'"
   ]
  },
  {
   "cell_type": "code",
   "execution_count": 44,
   "id": "2a50d962",
   "metadata": {},
   "outputs": [
    {
     "data": {
      "text/plain": [
       "True"
      ]
     },
     "execution_count": 44,
     "metadata": {},
     "output_type": "execute_result"
    }
   ],
   "source": [
    "# Checking if the Target Variable exists or not \n",
    "# target_variable is 'Closing Price' column\n",
    "target_variable in Data.columns"
   ]
  },
  {
   "cell_type": "code",
   "execution_count": 45,
   "id": "0cd3ff0d",
   "metadata": {},
   "outputs": [
    {
     "data": {
      "image/png": "[encoded data removed]",
      "text/plain": [
       "<Figure size 1000x500 with 1 Axes>"
      ]
     },
     "metadata": {},
     "output_type": "display_data"
    }
   ],
   "source": [
    "# Creating the Histogram to present some visuals and learn through it.\n",
    "# Histogram of the target variable.\n",
    "# This shows us how often different price ranges appear.\n",
    "plt.figure(figsize=(10, 5))\n",
    "sns.histplot(Data[target_variable], kde=True, bins=40)                  # kde=True means adding a smooth line, bins is the range of numerical values \n",
    "plt.title('Distribution of Closing Price')                              # Set the title of the plot to clearly describe its content\n",
    "plt.xlabel('Closing Price')                                             # Label the x-axis to indicate it represents the 'Closing Price'\n",
    "plt.ylabel('Frequency')                                                 # Here Frequency represent how man times the closing price fell within a particular price range(bins)\n",
    "plt.savefig('distribution_histogram.png', dpi=300, bbox_inches='tight', facecolor='lightgray')\n",
    "plt.show()                                                              # Show the plot"
   ]
  },
  {
   "cell_type": "code",
   "execution_count": null,
   "id": "422d5784",
   "metadata": {},
   "outputs": [
    {
     "data": {
      "image/png": "[encoded data removed]",
      "text/plain": [
       "<Figure size 1400x600 with 1 Axes>"
      ]
     },
     "metadata": {},
     "output_type": "display_data"
    }
   ],
   "source": [
    "# Creating a Line Graph\n",
    "# Making the picture bigger\n",
    "plt.figure(figsize=(14,6))\n",
    "\n",
    "# Plot the 'Closing Price' (or whatever 'target_variable' represents) against 'Date'\n",
    "# The 'label' argument is used for the legend\n",
    "plt.plot(Data['Date'], Data[target_variable], label=f'{target_variable}')       \n",
    "plt.title('Closing Price Over time')                    # Set the title of the plot to clearly describe its content\n",
    "plt.xlabel('Date')                                      # Label the x-axis to indicate it represents the 'Date'\n",
    "plt.ylabel('Price')                                     # Label the y-axis to indicate it represents the 'Price'\n",
    "plt.legend()                                            # Dsplay the legend, which shows what each line on the plot represents\n",
    "plt.grid(True)                                          # Adding a grid to the plot for easier reading of values\n",
    "plt.savefig('closing_price_over_time.png', dpi=300, bbox_inches='tight', facecolor='lightgray')         # Saveing the plot as a PNG image with high resolution\n",
    "plt.show()                                              # Show the plot"
   ]
  },
  {
   "cell_type": "markdown",
   "id": "00ba096e",
   "metadata": {},
   "source": [
    "\n",
    "--- \n",
    "# Performing the Task 2: Data Preprocessing and Feature Engineering\n",
    "---\n",
    "\n",
    "- Handle ``missing values`` and ``outliers`` appropriately.\n",
    "- Create ``time-based features`` (e.g., day of week, month, season).\n",
    "- ``Analyse correlations`` between variables.\n",
    "- ``Normalize`` or ``standardize`` features as necessary for Regression models."
   ]
  },
  {
   "cell_type": "code",
   "execution_count": 47,
   "id": "8c9f35c3",
   "metadata": {},
   "outputs": [
    {
     "data": {
      "application/vnd.microsoft.datawrangler.viewer.v0+json": {
       "columns": [
        {
         "name": "index",
         "rawType": "object",
         "type": "string"
        },
        {
         "name": "0",
         "rawType": "int64",
         "type": "integer"
        }
       ],
       "ref": "8f88dda7-a960-4d63-b20e-bdeed3efc132",
       "rows": [
        [
         "Date",
         "0"
        ],
        [
         "Closing Price",
         "0"
        ],
        [
         "Daily High",
         "0"
        ],
        [
         "Daily Low",
         "0"
        ],
        [
         "Daily Open",
         "0"
        ],
        [
         "Volume",
         "0"
        ]
       ],
       "shape": {
        "columns": 1,
        "rows": 6
       }
      },
      "text/plain": [
       "Date             0\n",
       "Closing Price    0\n",
       "Daily High       0\n",
       "Daily Low        0\n",
       "Daily Open       0\n",
       "Volume           0\n",
       "dtype: int64"
      ]
     },
     "execution_count": 47,
     "metadata": {},
     "output_type": "execute_result"
    }
   ],
   "source": [
    "# Cheking if there are any potential outliers or missing values.\n",
    "Data.isnull().sum() \n",
    "# There are not any single missing value in our dataset.\n",
    "# There are couple of techniques to handle missing values and outliers, I have provided a detail solution in my pdf report."
   ]
  },
  {
   "cell_type": "code",
   "execution_count": 48,
   "metadata": {},
   "outputs": [
    {
     "name": "stdout",
     "output_type": "stream",
     "text": [
      "Date             datetime64[ns]\n",
      "Closing Price           float64\n",
      "Daily High              float64\n",
      "Daily Low               float64\n",
      "Daily Open              float64\n",
      "Volume                    int64\n",
      "dtype: object\n"
     ]
    }
   ],
   "source": [
    "# Again, lets see the data types of our dataset\n",
    "print(Data.dtypes)"
   ]
  },
  {
   "cell_type": "code",
   "execution_count": 49,
   "id": "d877bc66",
   "metadata": {},
   "outputs": [],
   "source": [
    "# Feature Engineering: Extracting Time-Based Features from the 'Date' column\n",
    "# This section aims to create new columns that capture different details of time\n",
    "# Creating Time-Based Features:\n",
    "# Extracting more information from the 'Date' Column\n",
    "# Like, what year is it? What month? What day of the week?\n",
    "\n",
    "Data['Year'] = Data['Date'].dt.year                              # Extract year from column 'Date'\n",
    "Data['Month'] = Data['Date'].dt.month                            # Extracting month from column 'Date'\n",
    "Data['Day'] = Data['Date'].dt.day                                # Extract day from column 'Date'\n",
    "Data['DayOfWeek'] = Data['Date'].dt.dayofweek                    # Extract day of week (Monday=0, Sunday=6)\n",
    "Data['DayOfYear'] = Data['Date'].dt.dayofyear                    # Extract day of year"
   ]
  },
  {
   "cell_type": "code",
   "execution_count": 50,
   "id": "a4df599d",
   "metadata": {},
   "outputs": [
    {
     "name": "stdout",
     "output_type": "stream",
     "text": [
      "        Date  Year  Month  Day  DayOfWeek  DayOfYear\n",
      "0 2010-06-29  2010      6   29          1        180\n",
      "1 2010-06-30  2010      6   30          2        181\n",
      "2 2010-07-01  2010      7    1          3        182\n",
      "3 2010-07-02  2010      7    2          4        183\n",
      "4 2010-07-06  2010      7    6          1        187\n"
     ]
    }
   ],
   "source": [
    "print(Data[['Date', 'Year', 'Month', 'Day', 'DayOfWeek', 'DayOfYear']].head())\n",
    "# Successfully Created the columns"
   ]
  },
  {
   "cell_type": "code",
   "execution_count": 51,
   "metadata": {},
   "outputs": [
    {
     "data": {
      "application/vnd.microsoft.datawrangler.viewer.v0+json": {
       "columns": [
        {
         "name": "index",
         "rawType": "int64",
         "type": "integer"
        },
        {
         "name": "Date",
         "rawType": "datetime64[ns]",
         "type": "datetime"
        },
        {
         "name": "Closing Price",
         "rawType": "float64",
         "type": "float"
        },
        {
         "name": "Daily High",
         "rawType": "float64",
         "type": "float"
        },
        {
         "name": "Daily Low",
         "rawType": "float64",
         "type": "float"
        },
        {
         "name": "Daily Open",
         "rawType": "float64",
         "type": "float"
        },
        {
         "name": "Volume",
         "rawType": "int64",
         "type": "integer"
        },
        {
         "name": "Year",
         "rawType": "int32",
         "type": "integer"
        },
        {
         "name": "Month",
         "rawType": "int32",
         "type": "integer"
        },
        {
         "name": "Day",
         "rawType": "int32",
         "type": "integer"
        },
        {
         "name": "DayOfWeek",
         "rawType": "int32",
         "type": "integer"
        },
        {
         "name": "DayOfYear",
         "rawType": "int32",
         "type": "integer"
        }
       ],
       "ref": "2552702e-bfaa-4e8f-9042-58b012da3f85",
       "rows": [
        [
         "0",
         "2010-06-29 00:00:00",
         "1.5926669836044312",
         "1.6666669845581057",
         "1.1693329811096191",
         "1.2666670083999634",
         "281494500",
         "2010",
         "6",
         "29",
         "1",
         "180"
        ],
        [
         "1",
         "2010-06-30 00:00:00",
         "1.5886670351028442",
         "2.0280001163482666",
         "1.553333044052124",
         "1.7193330526351929",
         "257806500",
         "2010",
         "6",
         "30",
         "2",
         "181"
        ],
        [
         "2",
         "2010-07-01 00:00:00",
         "1.4639999866485596",
         "1.7280000448226929",
         "1.3513330221176147",
         "1.6666669845581057",
         "123282000",
         "2010",
         "7",
         "1",
         "3",
         "182"
        ],
        [
         "3",
         "2010-07-02 00:00:00",
         "1.2799999713897705",
         "1.5399999618530271",
         "1.24733304977417",
         "1.5333329439163208",
         "77097000",
         "2010",
         "7",
         "2",
         "4",
         "183"
        ],
        [
         "4",
         "2010-07-06 00:00:00",
         "1.0740000009536743",
         "1.3333330154418943",
         "1.0553330183029177",
         "1.3333330154418943",
         "103003500",
         "2010",
         "7",
         "6",
         "1",
         "187"
        ]
       ],
       "shape": {
        "columns": 11,
        "rows": 5
       }
      },
      "text/html": [
       "<div>\n",
       "<style scoped>\n",
       "    .dataframe tbody tr th:only-of-type {\n",
       "        vertical-align: middle;\n",
       "    }\n",
       "\n",
       "    .dataframe tbody tr th {\n",
       "        vertical-align: top;\n",
       "    }\n",
       "\n",
       "    .dataframe thead th {\n",
       "        text-align: right;\n",
       "    }\n",
       "</style>\n",
       "<table border=\"1\" class=\"dataframe\">\n",
       "  <thead>\n",
       "    <tr style=\"text-align: right;\">\n",
       "      <th></th>\n",
       "      <th>Date</th>\n",
       "      <th>Closing Price</th>\n",
       "      <th>Daily High</th>\n",
       "      <th>Daily Low</th>\n",
       "      <th>Daily Open</th>\n",
       "      <th>Volume</th>\n",
       "      <th>Year</th>\n",
       "      <th>Month</th>\n",
       "      <th>Day</th>\n",
       "      <th>DayOfWeek</th>\n",
       "      <th>DayOfYear</th>\n",
       "    </tr>\n",
       "  </thead>\n",
       "  <tbody>\n",
       "    <tr>\n",
       "      <th>0</th>\n",
       "      <td>2010-06-29</td>\n",
       "      <td>1.592667</td>\n",
       "      <td>1.666667</td>\n",
       "      <td>1.169333</td>\n",
       "      <td>1.266667</td>\n",
       "      <td>281494500</td>\n",
       "      <td>2010</td>\n",
       "      <td>6</td>\n",
       "      <td>29</td>\n",
       "      <td>1</td>\n",
       "      <td>180</td>\n",
       "    </tr>\n",
       "    <tr>\n",
       "      <th>1</th>\n",
       "      <td>2010-06-30</td>\n",
       "      <td>1.588667</td>\n",
       "      <td>2.028000</td>\n",
       "      <td>1.553333</td>\n",
       "      <td>1.719333</td>\n",
       "      <td>257806500</td>\n",
       "      <td>2010</td>\n",
       "      <td>6</td>\n",
       "      <td>30</td>\n",
       "      <td>2</td>\n",
       "      <td>181</td>\n",
       "    </tr>\n",
       "    <tr>\n",
       "      <th>2</th>\n",
       "      <td>2010-07-01</td>\n",
       "      <td>1.464000</td>\n",
       "      <td>1.728000</td>\n",
       "      <td>1.351333</td>\n",
       "      <td>1.666667</td>\n",
       "      <td>123282000</td>\n",
       "      <td>2010</td>\n",
       "      <td>7</td>\n",
       "      <td>1</td>\n",
       "      <td>3</td>\n",
       "      <td>182</td>\n",
       "    </tr>\n",
       "    <tr>\n",
       "      <th>3</th>\n",
       "      <td>2010-07-02</td>\n",
       "      <td>1.280000</td>\n",
       "      <td>1.540000</td>\n",
       "      <td>1.247333</td>\n",
       "      <td>1.533333</td>\n",
       "      <td>77097000</td>\n",
       "      <td>2010</td>\n",
       "      <td>7</td>\n",
       "      <td>2</td>\n",
       "      <td>4</td>\n",
       "      <td>183</td>\n",
       "    </tr>\n",
       "    <tr>\n",
       "      <th>4</th>\n",
       "      <td>2010-07-06</td>\n",
       "      <td>1.074000</td>\n",
       "      <td>1.333333</td>\n",
       "      <td>1.055333</td>\n",
       "      <td>1.333333</td>\n",
       "      <td>103003500</td>\n",
       "      <td>2010</td>\n",
       "      <td>7</td>\n",
       "      <td>6</td>\n",
       "      <td>1</td>\n",
       "      <td>187</td>\n",
       "    </tr>\n",
       "  </tbody>\n",
       "</table>\n",
       "</div>"
      ],
      "text/plain": [
       "        Date  Closing Price  Daily High  Daily Low  Daily Open     Volume  \\\n",
       "0 2010-06-29       1.592667    1.666667   1.169333    1.266667  281494500   \n",
       "1 2010-06-30       1.588667    2.028000   1.553333    1.719333  257806500   \n",
       "2 2010-07-01       1.464000    1.728000   1.351333    1.666667  123282000   \n",
       "3 2010-07-02       1.280000    1.540000   1.247333    1.533333   77097000   \n",
       "4 2010-07-06       1.074000    1.333333   1.055333    1.333333  103003500   \n",
       "\n",
       "   Year  Month  Day  DayOfWeek  DayOfYear  \n",
       "0  2010      6   29          1        180  \n",
       "1  2010      6   30          2        181  \n",
       "2  2010      7    1          3        182  \n",
       "3  2010      7    2          4        183  \n",
       "4  2010      7    6          1        187  "
      ]
     },
     "execution_count": 51,
     "metadata": {},
     "output_type": "execute_result"
    }
   ],
   "source": [
    "# Here, we can see in our Dataset the new columns\n",
    "Data.head()"
   ]
  },
  {
   "cell_type": "code",
   "execution_count": 52,
   "id": "26e10713",
   "metadata": {},
   "outputs": [],
   "source": [
    "# Analysing the correlation between variables \n",
    "# Correlation tells us how much two variables move together \n",
    "# Positive corelation means one goes up the other tends to go up\n",
    "# Negative correlation means one goes up, the other tends to go down\n",
    "# Near Zero means not much linear relationship"
   ]
  },
  {
   "cell_type": "code",
   "execution_count": 53,
   "metadata": {},
   "outputs": [
    {
     "name": "stdout",
     "output_type": "stream",
     "text": [
      "Correlation Matrix:\n",
      "               Closing Price  Daily High  Daily Low  Daily Open    Volume  \\\n",
      "Closing Price       1.000000    0.999651   0.999687    0.999222  0.105461   \n",
      "Daily High          0.999651    1.000000   0.999632    0.999730  0.108045   \n",
      "Daily Low           0.999687    0.999632   1.000000    0.999624  0.101291   \n",
      "Daily Open          0.999222    0.999730   0.999624    1.000000  0.104520   \n",
      "Volume              0.105461    0.108045   0.101291    0.104520  1.000000   \n",
      "Year                0.767958    0.767837   0.767898    0.767677  0.404774   \n",
      "Month               0.035983    0.034817   0.037028    0.035918 -0.086252   \n",
      "Day                -0.000159   -0.000788  -0.000514   -0.001549 -0.038153   \n",
      "DayOfWeek          -0.001036   -0.000964   0.000169    0.000445 -0.014195   \n",
      "DayOfYear           0.035458    0.034246   0.036460    0.035273 -0.089169   \n",
      "\n",
      "                   Year     Month       Day  DayOfWeek  DayOfYear  \n",
      "Closing Price  0.767958  0.035983 -0.000159  -0.001036   0.035458  \n",
      "Daily High     0.767837  0.034817 -0.000788  -0.000964   0.034246  \n",
      "Daily Low      0.767898  0.037028 -0.000514   0.000169   0.036460  \n",
      "Daily Open     0.767677  0.035918 -0.001549   0.000445   0.035273  \n",
      "Volume         0.404774 -0.086252 -0.038153  -0.014195  -0.089169  \n",
      "Year           1.000000 -0.054873 -0.000729   0.002015  -0.055089  \n",
      "Month         -0.054873  1.000000  0.000425  -0.012471   0.996474  \n",
      "Day           -0.000729  0.000425  1.000000  -0.003400   0.084031  \n",
      "DayOfWeek      0.002015 -0.012471 -0.003400   1.000000  -0.012617  \n",
      "DayOfYear     -0.055089  0.996474  0.084031  -0.012617   1.000000  \n"
     ]
    }
   ],
   "source": [
    "# Selecting only the numerical columns, --- # Date is not a numerical column\n",
    "numerical_data_for_corr = Data.select_dtypes(include=np.number)\n",
    "# using the heatmap \n",
    "correlation_matrix = numerical_data_for_corr.corr()\n",
    "print(\"Correlation Matrix:\")\n",
    "print(correlation_matrix)"
   ]
  },
  {
   "cell_type": "code",
   "execution_count": 56,
   "id": "f273ebc5",
   "metadata": {},
   "outputs": [
    {
     "data": {
      "image/png": "[encoded data removed]",
      "text/plain": [
       "<Figure size 640x480 with 2 Axes>"
      ]
     },
     "metadata": {},
     "output_type": "display_data"
    },
    {
     "name": "stdout",
     "output_type": "stream",
     "text": [
      "Closing Price    1.000000\n",
      "Daily Low        0.999687\n",
      "Daily High       0.999651\n",
      "Daily Open       0.999222\n",
      "Year             0.767958\n",
      "Volume           0.105461\n",
      "Month            0.035983\n",
      "DayOfYear        0.035458\n",
      "Day             -0.000159\n",
      "DayOfWeek       -0.001036\n",
      "Name: Closing Price, dtype: float64\n"
     ]
    }
   ],
   "source": [
    "plt.Figure(figsize=(12,12))\n",
    "sns.heatmap(correlation_matrix, annot=True, cmap='coolwarm', fmt=\".2f\", linewidths=.5)\n",
    "# annot=True shows the numbers on the map\n",
    "# cmap='coolwarm' is the color scheme\n",
    "# fmt=\".2f\" formats the numbers to 2 decimal places\n",
    "# linewidths represent width of the lines that divide each cell(square's)\n",
    "plt.title('Correlation Matrix of Numerical Features')\n",
    "plt.savefig('correlation_matrix_of_numerical_features.png', dpi=300, bbox_inches='tight')\n",
    "plt.show()\n",
    "\n",
    "print(correlation_matrix[target_variable].sort_values(ascending=False))   "
   ]
  },
  {
   "cell_type": "code",
   "execution_count": 57,
   "metadata": {},
   "outputs": [
    {
     "data": {
      "application/vnd.microsoft.datawrangler.viewer.v0+json": {
       "columns": [
        {
         "name": "index",
         "rawType": "int64",
         "type": "integer"
        },
        {
         "name": "Date",
         "rawType": "datetime64[ns]",
         "type": "datetime"
        },
        {
         "name": "Closing Price",
         "rawType": "float64",
         "type": "float"
        },
        {
         "name": "Daily High",
         "rawType": "float64",
         "type": "float"
        },
        {
         "name": "Daily Low",
         "rawType": "float64",
         "type": "float"
        },
        {
         "name": "Daily Open",
         "rawType": "float64",
         "type": "float"
        },
        {
         "name": "Volume",
         "rawType": "int64",
         "type": "integer"
        },
        {
         "name": "Year",
         "rawType": "int32",
         "type": "integer"
        },
        {
         "name": "Month",
         "rawType": "int32",
         "type": "integer"
        },
        {
         "name": "Day",
         "rawType": "int32",
         "type": "integer"
        },
        {
         "name": "DayOfWeek",
         "rawType": "int32",
         "type": "integer"
        },
        {
         "name": "DayOfYear",
         "rawType": "int32",
         "type": "integer"
        }
       ],
       "ref": "30b915bc-68b3-4cfd-9b7c-beca7eeed2ea",
       "rows": [
        [
         "0",
         "2010-06-29 00:00:00",
         "1.5926669836044312",
         "1.6666669845581057",
         "1.1693329811096191",
         "1.2666670083999634",
         "281494500",
         "2010",
         "6",
         "29",
         "1",
         "180"
        ],
        [
         "1",
         "2010-06-30 00:00:00",
         "1.5886670351028442",
         "2.0280001163482666",
         "1.553333044052124",
         "1.7193330526351929",
         "257806500",
         "2010",
         "6",
         "30",
         "2",
         "181"
        ],
        [
         "2",
         "2010-07-01 00:00:00",
         "1.4639999866485596",
         "1.7280000448226929",
         "1.3513330221176147",
         "1.6666669845581057",
         "123282000",
         "2010",
         "7",
         "1",
         "3",
         "182"
        ],
        [
         "3",
         "2010-07-02 00:00:00",
         "1.2799999713897705",
         "1.5399999618530271",
         "1.24733304977417",
         "1.5333329439163208",
         "77097000",
         "2010",
         "7",
         "2",
         "4",
         "183"
        ],
        [
         "4",
         "2010-07-06 00:00:00",
         "1.0740000009536743",
         "1.3333330154418943",
         "1.0553330183029177",
         "1.3333330154418943",
         "103003500",
         "2010",
         "7",
         "6",
         "1",
         "187"
        ]
       ],
       "shape": {
        "columns": 11,
        "rows": 5
       }
      },
      "text/html": [
       "<div>\n",
       "<style scoped>\n",
       "    .dataframe tbody tr th:only-of-type {\n",
       "        vertical-align: middle;\n",
       "    }\n",
       "\n",
       "    .dataframe tbody tr th {\n",
       "        vertical-align: top;\n",
       "    }\n",
       "\n",
       "    .dataframe thead th {\n",
       "        text-align: right;\n",
       "    }\n",
       "</style>\n",
       "<table border=\"1\" class=\"dataframe\">\n",
       "  <thead>\n",
       "    <tr style=\"text-align: right;\">\n",
       "      <th></th>\n",
       "      <th>Date</th>\n",
       "      <th>Closing Price</th>\n",
       "      <th>Daily High</th>\n",
       "      <th>Daily Low</th>\n",
       "      <th>Daily Open</th>\n",
       "      <th>Volume</th>\n",
       "      <th>Year</th>\n",
       "      <th>Month</th>\n",
       "      <th>Day</th>\n",
       "      <th>DayOfWeek</th>\n",
       "      <th>DayOfYear</th>\n",
       "    </tr>\n",
       "  </thead>\n",
       "  <tbody>\n",
       "    <tr>\n",
       "      <th>0</th>\n",
       "      <td>2010-06-29</td>\n",
       "      <td>1.592667</td>\n",
       "      <td>1.666667</td>\n",
       "      <td>1.169333</td>\n",
       "      <td>1.266667</td>\n",
       "      <td>281494500</td>\n",
       "      <td>2010</td>\n",
       "      <td>6</td>\n",
       "      <td>29</td>\n",
       "      <td>1</td>\n",
       "      <td>180</td>\n",
       "    </tr>\n",
       "    <tr>\n",
       "      <th>1</th>\n",
       "      <td>2010-06-30</td>\n",
       "      <td>1.588667</td>\n",
       "      <td>2.028000</td>\n",
       "      <td>1.553333</td>\n",
       "      <td>1.719333</td>\n",
       "      <td>257806500</td>\n",
       "      <td>2010</td>\n",
       "      <td>6</td>\n",
       "      <td>30</td>\n",
       "      <td>2</td>\n",
       "      <td>181</td>\n",
       "    </tr>\n",
       "    <tr>\n",
       "      <th>2</th>\n",
       "      <td>2010-07-01</td>\n",
       "      <td>1.464000</td>\n",
       "      <td>1.728000</td>\n",
       "      <td>1.351333</td>\n",
       "      <td>1.666667</td>\n",
       "      <td>123282000</td>\n",
       "      <td>2010</td>\n",
       "      <td>7</td>\n",
       "      <td>1</td>\n",
       "      <td>3</td>\n",
       "      <td>182</td>\n",
       "    </tr>\n",
       "    <tr>\n",
       "      <th>3</th>\n",
       "      <td>2010-07-02</td>\n",
       "      <td>1.280000</td>\n",
       "      <td>1.540000</td>\n",
       "      <td>1.247333</td>\n",
       "      <td>1.533333</td>\n",
       "      <td>77097000</td>\n",
       "      <td>2010</td>\n",
       "      <td>7</td>\n",
       "      <td>2</td>\n",
       "      <td>4</td>\n",
       "      <td>183</td>\n",
       "    </tr>\n",
       "    <tr>\n",
       "      <th>4</th>\n",
       "      <td>2010-07-06</td>\n",
       "      <td>1.074000</td>\n",
       "      <td>1.333333</td>\n",
       "      <td>1.055333</td>\n",
       "      <td>1.333333</td>\n",
       "      <td>103003500</td>\n",
       "      <td>2010</td>\n",
       "      <td>7</td>\n",
       "      <td>6</td>\n",
       "      <td>1</td>\n",
       "      <td>187</td>\n",
       "    </tr>\n",
       "  </tbody>\n",
       "</table>\n",
       "</div>"
      ],
      "text/plain": [
       "        Date  Closing Price  Daily High  Daily Low  Daily Open     Volume  \\\n",
       "0 2010-06-29       1.592667    1.666667   1.169333    1.266667  281494500   \n",
       "1 2010-06-30       1.588667    2.028000   1.553333    1.719333  257806500   \n",
       "2 2010-07-01       1.464000    1.728000   1.351333    1.666667  123282000   \n",
       "3 2010-07-02       1.280000    1.540000   1.247333    1.533333   77097000   \n",
       "4 2010-07-06       1.074000    1.333333   1.055333    1.333333  103003500   \n",
       "\n",
       "   Year  Month  Day  DayOfWeek  DayOfYear  \n",
       "0  2010      6   29          1        180  \n",
       "1  2010      6   30          2        181  \n",
       "2  2010      7    1          3        182  \n",
       "3  2010      7    2          4        183  \n",
       "4  2010      7    6          1        187  "
      ]
     },
     "execution_count": 57,
     "metadata": {},
     "output_type": "execute_result"
    }
   ],
   "source": [
    "Data.head()"
   ]
  },
  {
   "cell_type": "markdown",
   "id": "ae6f4de0",
   "metadata": {},
   "source": [
    "# Data Normalization or Standardization"
   ]
  },
  {
   "cell_type": "code",
   "execution_count": 58,
   "id": "8019da6a",
   "metadata": {},
   "outputs": [],
   "source": [
    "# So its needed for the sake of data to bring on the same scale for the machine learning model.\n",
    "# if data is on the same scale machine learning models work better\n",
    "# Like the Column 'Volume', 'Year' etc\n",
    "# there are many types of scalers depending on the type of data. I've provide a detail description of these in my report.\n",
    "# But for the numeric data, Im using the:\n",
    "# MinMax Scaler: it scales data from 0 to 1\n",
    "# There is this other scaler \"StandardScaler\" but i'm sticking with the MinMax scaler.\n",
    "\n",
    "from sklearn.preprocessing import MinMaxScaler\n",
    "# I scale the features but not the Target/Labels (what we want to guess).\n",
    "\n",
    "features_to_use = Data.select_dtypes(include=np.number).columns.drop(target_variable)\n",
    "\n",
    "X = Data[features_to_use]     # Features are being used for prediction\n",
    "y = Data[target_variable]     # Labels to be predicted \n",
    "\n",
    "# Scaling the features\n",
    "scaler = MinMaxScaler()\n",
    "X_scaled = scaler.fit_transform(X) "
   ]
  },
  {
   "cell_type": "code",
   "execution_count": 59,
   "id": "3e0276e3",
   "metadata": {},
   "outputs": [
    {
     "data": {
      "text/plain": [
       "Index(['Daily High', 'Daily Low', 'Daily Open', 'Volume', 'Year', 'Month',\n",
       "       'Day', 'DayOfWeek', 'DayOfYear'],\n",
       "      dtype='object')"
      ]
     },
     "execution_count": 59,
     "metadata": {},
     "output_type": "execute_result"
    }
   ],
   "source": [
    "features_to_use                 # Our dataset Features "
   ]
  },
  {
   "cell_type": "code",
   "execution_count": 60,
   "id": "bf33ac93",
   "metadata": {},
   "outputs": [
    {
     "data": {
      "text/plain": [
       "'Closing Price'"
      ]
     },
     "execution_count": 60,
     "metadata": {},
     "output_type": "execute_result"
    }
   ],
   "source": [
    "target_variable                 # Our dataset label "
   ]
  },
  {
   "cell_type": "code",
   "execution_count": 61,
   "metadata": {},
   "outputs": [
    {
     "data": {
      "text/plain": [
       "array([[1.34982138e-03, 4.21743216e-04, 4.64595078e-04, ...,\n",
       "        9.33333333e-01, 2.50000000e-01, 4.89010989e-01],\n",
       "       [2.22389882e-03, 1.37066943e-03, 1.56759864e-03, ...,\n",
       "        9.66666667e-01, 5.00000000e-01, 4.91758242e-01],\n",
       "       [1.49818819e-03, 8.71494730e-04, 1.43926814e-03, ...,\n",
       "        0.00000000e+00, 7.50000000e-01, 4.94505495e-01],\n",
       "       ...,\n",
       "       [6.34346728e-01, 6.33905643e-01, 6.26895143e-01, ...,\n",
       "        8.66666667e-01, 5.00000000e-01, 9.86263736e-01],\n",
       "       [6.38676821e-01, 6.22019399e-01, 6.39833923e-01, ...,\n",
       "        9.00000000e-01, 7.50000000e-01, 9.89010989e-01],\n",
       "       [6.14631609e-01, 6.08971631e-01, 6.18975924e-01, ...,\n",
       "        9.33333333e-01, 1.00000000e+00, 9.91758242e-01]], shape=(3400, 9))"
      ]
     },
     "execution_count": 61,
     "metadata": {},
     "output_type": "execute_result"
    }
   ],
   "source": [
    "X_scaled                        # Successfully scaled our Features"
   ]
  },
  {
   "cell_type": "code",
   "execution_count": 62,
   "id": "76089211",
   "metadata": {},
   "outputs": [
    {
     "data": {
      "application/vnd.microsoft.datawrangler.viewer.v0+json": {
       "columns": [
        {
         "name": "index",
         "rawType": "int64",
         "type": "integer"
        },
        {
         "name": "Daily High",
         "rawType": "float64",
         "type": "float"
        },
        {
         "name": "Daily Low",
         "rawType": "float64",
         "type": "float"
        },
        {
         "name": "Daily Open",
         "rawType": "float64",
         "type": "float"
        },
        {
         "name": "Volume",
         "rawType": "float64",
         "type": "float"
        },
        {
         "name": "Year",
         "rawType": "float64",
         "type": "float"
        },
        {
         "name": "Month",
         "rawType": "float64",
         "type": "float"
        },
        {
         "name": "Day",
         "rawType": "float64",
         "type": "float"
        },
        {
         "name": "DayOfWeek",
         "rawType": "float64",
         "type": "float"
        },
        {
         "name": "DayOfYear",
         "rawType": "float64",
         "type": "float"
        }
       ],
       "ref": "ee199819-d955-41a9-8c40-36ffb8c419e1",
       "rows": [
        [
         "0",
         "0.0013498213776480732",
         "0.0004217432162090355",
         "0.00046459507842912685",
         "0.3066048671249566",
         "0.0",
         "0.4545454545454545",
         "0.9333333333333333",
         "0.25",
         "0.48901098901098905"
        ],
        [
         "1",
         "0.002223898820750581",
         "0.0013706694295825329",
         "0.0015675986380850673",
         "0.280639852154626",
         "0.0",
         "0.4545454545454545",
         "0.9666666666666667",
         "0.5",
         "0.49175824175824184"
        ],
        [
         "2",
         "0.0014981881887072249",
         "0.0008714947303732328",
         "0.001439268136378776",
         "0.13318415068653064",
         "0.0",
         "0.5454545454545454",
         "0.0",
         "0.75",
         "0.4945054945054945"
        ],
        [
         "3",
         "0.0010434094336811976",
         "0.0006144939913874429",
         "0.00111437537421088",
         "0.08255960592104938",
         "0.0",
         "0.5454545454545454",
         "0.03333333333333333",
         "1.0",
         "0.49725274725274726"
        ],
        [
         "4",
         "0.0005434748851999038",
         "0.00014003088470069484",
         "0.0006270389904736674",
         "0.11095637476303141",
         "0.0",
         "0.5454545454545454",
         "0.16666666666666669",
         "0.25",
         "0.5082417582417583"
        ]
       ],
       "shape": {
        "columns": 9,
        "rows": 5
       }
      },
      "text/html": [
       "<div>\n",
       "<style scoped>\n",
       "    .dataframe tbody tr th:only-of-type {\n",
       "        vertical-align: middle;\n",
       "    }\n",
       "\n",
       "    .dataframe tbody tr th {\n",
       "        vertical-align: top;\n",
       "    }\n",
       "\n",
       "    .dataframe thead th {\n",
       "        text-align: right;\n",
       "    }\n",
       "</style>\n",
       "<table border=\"1\" class=\"dataframe\">\n",
       "  <thead>\n",
       "    <tr style=\"text-align: right;\">\n",
       "      <th></th>\n",
       "      <th>Daily High</th>\n",
       "      <th>Daily Low</th>\n",
       "      <th>Daily Open</th>\n",
       "      <th>Volume</th>\n",
       "      <th>Year</th>\n",
       "      <th>Month</th>\n",
       "      <th>Day</th>\n",
       "      <th>DayOfWeek</th>\n",
       "      <th>DayOfYear</th>\n",
       "    </tr>\n",
       "  </thead>\n",
       "  <tbody>\n",
       "    <tr>\n",
       "      <th>0</th>\n",
       "      <td>0.001350</td>\n",
       "      <td>0.000422</td>\n",
       "      <td>0.000465</td>\n",
       "      <td>0.306605</td>\n",
       "      <td>0.0</td>\n",
       "      <td>0.454545</td>\n",
       "      <td>0.933333</td>\n",
       "      <td>0.25</td>\n",
       "      <td>0.489011</td>\n",
       "    </tr>\n",
       "    <tr>\n",
       "      <th>1</th>\n",
       "      <td>0.002224</td>\n",
       "      <td>0.001371</td>\n",
       "      <td>0.001568</td>\n",
       "      <td>0.280640</td>\n",
       "      <td>0.0</td>\n",
       "      <td>0.454545</td>\n",
       "      <td>0.966667</td>\n",
       "      <td>0.50</td>\n",
       "      <td>0.491758</td>\n",
       "    </tr>\n",
       "    <tr>\n",
       "      <th>2</th>\n",
       "      <td>0.001498</td>\n",
       "      <td>0.000871</td>\n",
       "      <td>0.001439</td>\n",
       "      <td>0.133184</td>\n",
       "      <td>0.0</td>\n",
       "      <td>0.545455</td>\n",
       "      <td>0.000000</td>\n",
       "      <td>0.75</td>\n",
       "      <td>0.494505</td>\n",
       "    </tr>\n",
       "    <tr>\n",
       "      <th>3</th>\n",
       "      <td>0.001043</td>\n",
       "      <td>0.000614</td>\n",
       "      <td>0.001114</td>\n",
       "      <td>0.082560</td>\n",
       "      <td>0.0</td>\n",
       "      <td>0.545455</td>\n",
       "      <td>0.033333</td>\n",
       "      <td>1.00</td>\n",
       "      <td>0.497253</td>\n",
       "    </tr>\n",
       "    <tr>\n",
       "      <th>4</th>\n",
       "      <td>0.000543</td>\n",
       "      <td>0.000140</td>\n",
       "      <td>0.000627</td>\n",
       "      <td>0.110956</td>\n",
       "      <td>0.0</td>\n",
       "      <td>0.545455</td>\n",
       "      <td>0.166667</td>\n",
       "      <td>0.25</td>\n",
       "      <td>0.508242</td>\n",
       "    </tr>\n",
       "  </tbody>\n",
       "</table>\n",
       "</div>"
      ],
      "text/plain": [
       "   Daily High  Daily Low  Daily Open    Volume  Year     Month       Day  \\\n",
       "0    0.001350   0.000422    0.000465  0.306605   0.0  0.454545  0.933333   \n",
       "1    0.002224   0.001371    0.001568  0.280640   0.0  0.454545  0.966667   \n",
       "2    0.001498   0.000871    0.001439  0.133184   0.0  0.545455  0.000000   \n",
       "3    0.001043   0.000614    0.001114  0.082560   0.0  0.545455  0.033333   \n",
       "4    0.000543   0.000140    0.000627  0.110956   0.0  0.545455  0.166667   \n",
       "\n",
       "   DayOfWeek  DayOfYear  \n",
       "0       0.25   0.489011  \n",
       "1       0.50   0.491758  \n",
       "2       0.75   0.494505  \n",
       "3       1.00   0.497253  \n",
       "4       0.25   0.508242  "
      ]
     },
     "execution_count": 62,
     "metadata": {},
     "output_type": "execute_result"
    }
   ],
   "source": [
    "# As we can see, the result is a numpy array, lets create a dataframe of it\n",
    "X_scaled = pd.DataFrame(X_scaled, columns=features_to_use, index=X.index)\n",
    "X_scaled.head()"
   ]
  },
  {
   "cell_type": "markdown",
   "id": "0cbb10e8",
   "metadata": {},
   "source": [
    "\n",
    "---\n",
    "# Performing the Task 3: Regression Model Develpoment and Evaluation\n",
    "---\n",
    "\n",
    "- Implement at least ``two`` different machine learning ``regression models`` suitable for ``time series``.\n",
    "- Split the data into ``training``, ``validation`` and ``testing sets``.\n",
    "- Use the appropriate ``evaluation metrics`` for ``regression tasks`` (e.g., Mean Squared Error, \n",
    "R-squared, Mean Absolute Error).\n",
    "- Identify the most ``influential features`` affecting the target variable.\n",
    "- Use the validation set to tune hyperparameters and evaluate the model's performance during the training process, which helps prevent overfitting, if any.\n",
    "- Analyse ``model performance`` and ``interpret results`` in the context of time series regression. Make ``predictions`` on the test set.\n",
    "- Provide the final evaluation results in your detailed report."
   ]
  },
  {
   "cell_type": "code",
   "execution_count": null,
   "id": "ec395b39",
   "metadata": {},
   "outputs": [],
   "source": [
    "# Import the tools we need for modeling from scikit-learn\n",
    "from sklearn.model_selection import train_test_split\n",
    "from sklearn.linear_model import LinearRegression\n",
    "from sklearn.ensemble import RandomForestRegressor\n",
    "from sklearn.metrics import mean_squared_error, r2_score, root_mean_squared_error\n",
    "\n",
    "\n",
    "# Calculate the index to split the data, taking 80% for training.\n",
    "# This creates a clear boundary between the training and testing datasets.\n",
    "exact_index = int(len(X_scaled) * 0.8)\n",
    "\n",
    "# Split the 'features' (X_scaled) into training and testing sets.\n",
    "# X_train will be used to teach the model, and X_test to evaluate its performance on unseen data.\n",
    "X_train, X_test = X_scaled[:exact_index], X_scaled[exact_index:]\n",
    "\n",
    "# Split the 'target variable' (y) into corresponding training and testing sets.\n",
    "# y_train are the known outcomes for the training features, y_test for the testing features.\n",
    "y_train, y_test = y[:exact_index], y[exact_index:]"
   ]
  },
  {
   "cell_type": "code",
   "execution_count": 64,
   "id": "2a718b53",
   "metadata": {},
   "outputs": [
    {
     "name": "stdout",
     "output_type": "stream",
     "text": [
      "2720\n",
      "680\n"
     ]
    }
   ],
   "source": [
    "print(len(X_train))\n",
    "print(len(X_test))"
   ]
  },
  {
   "cell_type": "code",
   "execution_count": 65,
   "id": "dd1d8f68",
   "metadata": {},
   "outputs": [],
   "source": [
    "# So im going with the 2 regression model\n",
    "# One is basic Simple Linear Regression\n",
    "# Other is advanced Random forest regressor\n",
    "\n",
    "# Creating the model\n",
    "lr_model = LinearRegression()\n",
    "# Training the model on the training data\n",
    "lr_model.fit(X_train, y_train)\n",
    "# Making predictions on our test data\n",
    "lr_predictions = lr_model.predict(X_test) "
   ]
  },
  {
   "cell_type": "code",
   "execution_count": 66,
   "id": "66d13762",
   "metadata": {},
   "outputs": [
    {
     "name": "stdout",
     "output_type": "stream",
     "text": [
      "Intercept:  0.9894032755027453\n"
     ]
    }
   ],
   "source": [
    "print('Intercept: ', lr_model.intercept_)"
   ]
  },
  {
   "cell_type": "code",
   "execution_count": 67,
   "metadata": {},
   "outputs": [],
   "source": [
    "# Evaluating the model\n",
    "lr_mse = mean_squared_error(y_test, lr_predictions)\n",
    "lr_rmse = np.sqrt(lr_mse)\n",
    "lr_r2 = r2_score(y_test, lr_predictions)"
   ]
  },
  {
   "cell_type": "code",
   "execution_count": 68,
   "id": "c4439c9f",
   "metadata": {},
   "outputs": [
    {
     "name": "stdout",
     "output_type": "stream",
     "text": [
      "Mean Squared Error: 12.525007163113552\n",
      "Root mean squared error: 3.539068685842866\n",
      "R-square: 0.9962386928509541\n"
     ]
    }
   ],
   "source": [
    "print(\"Mean Squared Error:\", lr_mse)\n",
    "print(\"Root mean squared error:\", lr_rmse)\n",
    "print(\"R-square:\", lr_r2)"
   ]
  },
  {
   "cell_type": "markdown",
   "id": "008fa9fd",
   "metadata": {},
   "source": [
    "# Random Forest Regressor"
   ]
  },
  {
   "cell_type": "code",
   "execution_count": 69,
   "id": "4b01ea9a",
   "metadata": {},
   "outputs": [],
   "source": [
    "# This is a more powerful model. Imagine it as a team of many decision trees working together.\n",
    "# Each tree makes a guess, and the model averages their guesses to get a final prediction."
   ]
  },
  {
   "cell_type": "code",
   "execution_count": 70,
   "id": "6cf1bf08",
   "metadata": {},
   "outputs": [],
   "source": [
    "# Create the model\n",
    "# n_estimators is the number of trees in the forest. random_state ensures we get the same result every time.\n",
    "rf_model = RandomForestRegressor(n_estimators=100, random_state=42)\n",
    "# Train the model\n",
    "rf_model.fit(X_train, y_train)\n",
    "# Make predictions\n",
    "rf_predictions = rf_model.predict(X_test)"
   ]
  },
  {
   "cell_type": "code",
   "execution_count": 71,
   "metadata": {},
   "outputs": [],
   "source": [
    "# Evaluate the model \n",
    "rf_mse = mean_squared_error(y_test, rf_predictions)\n",
    "rf_rmse = np.sqrt(rf_mse)\n",
    "rf_r2 = r2_score(y_test, rf_predictions)"
   ]
  },
  {
   "cell_type": "code",
   "execution_count": 72,
   "id": "0709df91",
   "metadata": {},
   "outputs": [
    {
     "name": "stdout",
     "output_type": "stream",
     "text": [
      "Mean Squared Error of Random Forest: 619.8612289224097\n",
      "Root mean squared error of Random Forest: 24.897012449738014\n",
      "R-square of Random Forest: 0.8138533222856323\n"
     ]
    }
   ],
   "source": [
    "print(\"Mean Squared Error of Random Forest:\", rf_mse)\n",
    "print(\"Root mean squared error of Random Forest:\", rf_rmse)\n",
    "print(\"R-square of Random Forest:\", rf_r2)"
   ]
  },
  {
   "cell_type": "code",
   "execution_count": null,
   "id": "99862370",
   "metadata": {},
   "outputs": [
    {
     "data": {
      "image/png": "[encoded data removed]",
      "text/plain": [
       "<Figure size 640x480 with 1 Axes>"
      ]
     },
     "metadata": {},
     "output_type": "display_data"
    }
   ],
   "source": [
    "# Visualize the predictions\n",
    "import matplotlib.pyplot as plt\n",
    "plt.Figure(figsize=(14,8))\n",
    "plt.plot(y_test.index, y_test, label='Actual Prices', color='blue', linewidth=2)                                # Plot the actual prices from y_test\n",
    "plt.plot(y_test.index, lr_predictions, label='Linear Regression Predictions', color='green', linestyle='--')    # Plot the Linear Regression predictions\n",
    "plt.plot(y_test.index, rf_predictions, label='Random Forest Predictions', color='red', linestyle='--')          # Plot the Random Forest predictions\n",
    "\n",
    "plt.xlabel('Date')                                          # Set the label for the x-axis\n",
    "plt.ylabel('Closing Price')                                 # Set the label for the y-axis\n",
    "plt.title('Model Predictions vs Actual Prices')             # Set the title of the plot\n",
    "plt.legend()                                                # Displaying the legend to identify each lin\n",
    "plt.grid(True)                                              # Adding a grid for more readability\n",
    "plt.savefig('model_predictions_vs_actual.png', dpi=300, bbox_inches='tight')    # Saveing the plot as a PNG image with high resolution\n",
    "plt.show()                                                  # Displaying the plot"
   ]
  },
  {
   "cell_type": "code",
   "execution_count": 74,
   "id": "4bfea81f",
   "metadata": {},
   "outputs": [
    {
     "name": "stdout",
     "output_type": "stream",
     "text": [
      "Feature Importance Ranking:\n",
      "      feature    importance\n",
      "1   Daily Low  6.471033e-01\n",
      "0  Daily High  2.697429e-01\n",
      "2  Daily Open  8.039290e-02\n",
      "8   DayOfYear  2.054201e-03\n",
      "5       Month  5.605654e-04\n",
      "6         Day  6.625533e-05\n",
      "3      Volume  5.034887e-05\n",
      "7   DayOfWeek  2.891531e-05\n",
      "4        Year  6.219783e-07\n"
     ]
    }
   ],
   "source": [
    "feature_importances = pd.DataFrame({\n",
    "        'feature': features_to_use,\n",
    "        'importance': rf_model.feature_importances_\n",
    "    }).sort_values('importance', ascending=False)\n",
    "    \n",
    "print(\"Feature Importance Ranking:\")\n",
    "print(feature_importances)"
   ]
  },
  {
   "cell_type": "code",
   "execution_count": null,
   "id": "59d95d2e",
   "metadata": {},
   "outputs": [],
   "source": [
    "# Get importances from Random Forest\n",
    "rf_importances_df = pd.DataFrame({\n",
    "        'feature': features_to_use,\n",
    "        'importance': rf_model.feature_importances_,\n",
    "        'model': 'Random Forest'                                    # Add a column to identify the model\n",
    "    })\n",
    "    \n",
    "# Get importances from Linear Regression\n",
    "# For Linear Regression, we use the absolute value of the coefficients (.coef_)\n",
    "lr_importances_df = pd.DataFrame({\n",
    "        'feature': features_to_use,\n",
    "        'importance': np.abs(lr_model.coef_),                       # Take the absolute value for magnitude\n",
    "        'model': 'Linear Regression'                                # Add a column to identify the model\n",
    "    })"
   ]
  },
  {
   "cell_type": "code",
   "execution_count": null,
   "metadata": {},
   "outputs": [],
   "source": [
    "# To compare them on the same chart, we should scale the importances for both models to be between 0 and 1.\n",
    "# This is because the scales of .coef_ and .feature_importances_ are very different.\n",
    "scaler_lr = MinMaxScaler()\n",
    "lr_importances_df['importance'] = scaler_lr.fit_transform(lr_importances_df[['importance']])\n",
    "\n",
    "scaler_rf = MinMaxScaler()\n",
    "rf_importances_df['importance'] = scaler_rf.fit_transform(rf_importances_df[['importance']])\n"
   ]
  },
  {
   "cell_type": "code",
   "execution_count": 77,
   "id": "f48bf3c8",
   "metadata": {},
   "outputs": [
    {
     "name": "stdout",
     "output_type": "stream",
     "text": [
      "Combined and Scaled Feature Importance Ranking:\n",
      "      feature  importance              model\n",
      "0  Daily High    1.000000  Linear Regression\n",
      "1   Daily Low    1.000000      Random Forest\n",
      "2  Daily Open    0.653452  Linear Regression\n",
      "1   Daily Low    0.643522  Linear Regression\n",
      "0  Daily High    0.416846      Random Forest\n",
      "2  Daily Open    0.124234      Random Forest\n",
      "8   DayOfYear    0.010501  Linear Regression\n",
      "5       Month    0.009841  Linear Regression\n",
      "8   DayOfYear    0.003173      Random Forest\n",
      "3      Volume    0.001552  Linear Regression\n",
      "5       Month    0.000865      Random Forest\n",
      "6         Day    0.000733  Linear Regression\n",
      "6         Day    0.000101      Random Forest\n",
      "3      Volume    0.000077      Random Forest\n",
      "7   DayOfWeek    0.000044      Random Forest\n",
      "7   DayOfWeek    0.000042  Linear Regression\n",
      "4        Year    0.000000      Random Forest\n",
      "4        Year    0.000000  Linear Regression\n"
     ]
    }
   ],
   "source": [
    "# Combine the two dataframes into one\n",
    "combined_importances = pd.concat([rf_importances_df, lr_importances_df]).sort_values('importance', ascending=False)\n",
    "    \n",
    "print(\"Combined and Scaled Feature Importance Ranking:\")\n",
    "print(combined_importances)"
   ]
  },
  {
   "cell_type": "code",
   "execution_count": null,
   "metadata": {},
   "outputs": [
    {
     "data": {
      "image/png": "[encoded data removed]",
      "text/plain": [
       "<Figure size 1200x800 with 1 Axes>"
      ]
     },
     "metadata": {},
     "output_type": "display_data"
    }
   ],
   "source": [
    "# Visualize Feature Importances using HUE parameter in seaborn\n",
    "# Create a bar plot using seaborn to compare feature importances\n",
    "plt.figure(figsize=(12, 8))\n",
    "\n",
    "# Create a bar plot using seaborn to compare feature importances\n",
    "# x-axis: 'importance' values\n",
    "# y-axis: 'feature' names\n",
    "# hue: Differentiate bars by 'model' (Linear Regression vs. Random Forest)\n",
    "# data: Use the 'combined_importances' DataFrame\n",
    "# palette: Use the 'viridis' color scheme\n",
    "\n",
    "sns.barplot(x='importance', y='feature', hue='model', data=combined_importances, palette='viridis')\n",
    "plt.title('Feature Importance Comparison: Linear Regression vs. Random Forest')                     # Set the title of the plot\n",
    "plt.xlabel('Scaled Importance Score')                                                               # Set the label for the x-axis\n",
    "plt.ylabel('Feature')                                                                               # Set the label for the y-axis\n",
    "plt.grid(axis='x', linestyle='--', alpha=0.7)                                                       # Added a horizontal grid for readability purposes, with a dashed line style and transperency\n",
    "plt.legend(title='Model')                                                                           # Display the legend with a title 'Model' to identify the different models\n",
    "plt.savefig('feature_importance_comparison.png', dpi=300, bbox_inches='tight')                      # Save the plot as a PNG image with high resolution and tight bounding box\n",
    "plt.show()                                                                                          # Showing the plot"
   ]
  },
  {
   "cell_type": "code",
   "execution_count": null,
   "id": "c6b2afc4",
   "metadata": {},
   "outputs": [],
   "source": []
  },
  {
   "cell_type": "code",
   "execution_count": null,
   "metadata": {},
   "outputs": [],
   "source": []
  },
  {
   "cell_type": "code",
   "execution_count": null,
   "id": "d0ede52c",
   "metadata": {},
   "outputs": [],
   "source": []
  },
  {
   "cell_type": "code",
   "execution_count": null,
   "id": "91b19bf9",
   "metadata": {},
   "outputs": [],
   "source": []
  }
 ],
 "metadata": {
  "kernelspec": {
   "display_name": ".venv",
   "language": "python",
   "name": "python3"
  },
  "language_info": {
   "codemirror_mode": {
    "name": "ipython",
    "version": 3
   },
   "file_extension": ".py",
   "mimetype": "text/x-python",
   "name": "python",
   "nbconvert_exporter": "python",
   "pygments_lexer": "ipython3",
   "version": "3.12.4"
  }
 },
 "nbformat": 4,
 "nbformat_minor": 5
}
