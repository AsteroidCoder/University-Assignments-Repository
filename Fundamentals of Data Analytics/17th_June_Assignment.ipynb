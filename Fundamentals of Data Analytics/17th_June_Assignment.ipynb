{
 "cells": [
  {
   "cell_type": "code",
   "execution_count": 1,
   "id": "f8e2a188",
   "metadata": {},
   "outputs": [],
   "source": [
    "# Importing the Libraries \n",
    "import pandas as pd \n",
    "import numpy as np\n",
    "import matplotlib.pyplot as plt\n",
    "import seaborn as sns\n",
    "\n",
    "import yfinance as yf"
   ]
  },
  {
   "cell_type": "code",
   "execution_count": 2,
   "id": "651cfb2f",
   "metadata": {},
   "outputs": [
    {
     "name": "stdout",
     "output_type": "stream",
     "text": [
      "YF.download() has changed argument auto_adjust default to True\n"
     ]
    },
    {
     "name": "stderr",
     "output_type": "stream",
     "text": [
      "[*********************100%***********************]  1 of 1 completed\n"
     ]
    }
   ],
   "source": [
    "# Importing the dataset\n",
    "df = yf.download('TSLA', start='2010-06-29', end='2023-12-31')\n",
    "df.to_csv('Tesla Stock Market Data.csv')"
   ]
  },
  {
   "cell_type": "code",
   "execution_count": 3,
   "id": "3973bcf0",
   "metadata": {},
   "outputs": [],
   "source": [
    "df1 = pd.read_csv('Tesla Stock Market Data.csv')"
   ]
  },
  {
   "cell_type": "code",
   "execution_count": 4,
   "id": "4b318e25",
   "metadata": {},
   "outputs": [
    {
     "data": {
      "application/vnd.microsoft.datawrangler.viewer.v0+json": {
       "columns": [
        {
         "name": "index",
         "rawType": "int64",
         "type": "integer"
        },
        {
         "name": "Price",
         "rawType": "object",
         "type": "string"
        },
        {
         "name": "Close",
         "rawType": "object",
         "type": "unknown"
        },
        {
         "name": "High",
         "rawType": "object",
         "type": "unknown"
        },
        {
         "name": "Low",
         "rawType": "object",
         "type": "unknown"
        },
        {
         "name": "Open",
         "rawType": "object",
         "type": "unknown"
        },
        {
         "name": "Volume",
         "rawType": "object",
         "type": "unknown"
        }
       ],
       "ref": "a0980e2d-2625-4959-8838-d4b9f616c8d6",
       "rows": [
        [
         "0",
         "Ticker",
         "TSLA",
         "TSLA",
         "TSLA",
         "TSLA",
         "TSLA"
        ],
        [
         "1",
         "Date",
         null,
         null,
         null,
         null,
         null
        ],
        [
         "2",
         "2010-06-29",
         "1.5926669836044312",
         "1.6666669845581055",
         "1.1693329811096191",
         "1.2666670083999634",
         "281494500"
        ],
        [
         "3",
         "2010-06-30",
         "1.5886670351028442",
         "2.0280001163482666",
         "1.553333044052124",
         "1.7193330526351929",
         "257806500"
        ],
        [
         "4",
         "2010-07-01",
         "1.4639999866485596",
         "1.7280000448226929",
         "1.3513330221176147",
         "1.6666669845581055",
         "123282000"
        ]
       ],
       "shape": {
        "columns": 6,
        "rows": 5
       }
      },
      "text/html": [
       "<div>\n",
       "<style scoped>\n",
       "    .dataframe tbody tr th:only-of-type {\n",
       "        vertical-align: middle;\n",
       "    }\n",
       "\n",
       "    .dataframe tbody tr th {\n",
       "        vertical-align: top;\n",
       "    }\n",
       "\n",
       "    .dataframe thead th {\n",
       "        text-align: right;\n",
       "    }\n",
       "</style>\n",
       "<table border=\"1\" class=\"dataframe\">\n",
       "  <thead>\n",
       "    <tr style=\"text-align: right;\">\n",
       "      <th></th>\n",
       "      <th>Price</th>\n",
       "      <th>Close</th>\n",
       "      <th>High</th>\n",
       "      <th>Low</th>\n",
       "      <th>Open</th>\n",
       "      <th>Volume</th>\n",
       "    </tr>\n",
       "  </thead>\n",
       "  <tbody>\n",
       "    <tr>\n",
       "      <th>0</th>\n",
       "      <td>Ticker</td>\n",
       "      <td>TSLA</td>\n",
       "      <td>TSLA</td>\n",
       "      <td>TSLA</td>\n",
       "      <td>TSLA</td>\n",
       "      <td>TSLA</td>\n",
       "    </tr>\n",
       "    <tr>\n",
       "      <th>1</th>\n",
       "      <td>Date</td>\n",
       "      <td>NaN</td>\n",
       "      <td>NaN</td>\n",
       "      <td>NaN</td>\n",
       "      <td>NaN</td>\n",
       "      <td>NaN</td>\n",
       "    </tr>\n",
       "    <tr>\n",
       "      <th>2</th>\n",
       "      <td>2010-06-29</td>\n",
       "      <td>1.5926669836044312</td>\n",
       "      <td>1.6666669845581055</td>\n",
       "      <td>1.1693329811096191</td>\n",
       "      <td>1.2666670083999634</td>\n",
       "      <td>281494500</td>\n",
       "    </tr>\n",
       "    <tr>\n",
       "      <th>3</th>\n",
       "      <td>2010-06-30</td>\n",
       "      <td>1.5886670351028442</td>\n",
       "      <td>2.0280001163482666</td>\n",
       "      <td>1.553333044052124</td>\n",
       "      <td>1.7193330526351929</td>\n",
       "      <td>257806500</td>\n",
       "    </tr>\n",
       "    <tr>\n",
       "      <th>4</th>\n",
       "      <td>2010-07-01</td>\n",
       "      <td>1.4639999866485596</td>\n",
       "      <td>1.7280000448226929</td>\n",
       "      <td>1.3513330221176147</td>\n",
       "      <td>1.6666669845581055</td>\n",
       "      <td>123282000</td>\n",
       "    </tr>\n",
       "  </tbody>\n",
       "</table>\n",
       "</div>"
      ],
      "text/plain": [
       "        Price               Close                High                 Low  \\\n",
       "0      Ticker                TSLA                TSLA                TSLA   \n",
       "1        Date                 NaN                 NaN                 NaN   \n",
       "2  2010-06-29  1.5926669836044312  1.6666669845581055  1.1693329811096191   \n",
       "3  2010-06-30  1.5886670351028442  2.0280001163482666   1.553333044052124   \n",
       "4  2010-07-01  1.4639999866485596  1.7280000448226929  1.3513330221176147   \n",
       "\n",
       "                 Open     Volume  \n",
       "0                TSLA       TSLA  \n",
       "1                 NaN        NaN  \n",
       "2  1.2666670083999634  281494500  \n",
       "3  1.7193330526351929  257806500  \n",
       "4  1.6666669845581055  123282000  "
      ]
     },
     "execution_count": 4,
     "metadata": {},
     "output_type": "execute_result"
    }
   ],
   "source": [
    "df1.head()"
   ]
  },
  {
   "cell_type": "code",
   "execution_count": null,
   "id": "ef3e9f59",
   "metadata": {},
   "outputs": [],
   "source": []
  }
 ],
 "metadata": {
  "kernelspec": {
   "display_name": ".venv",
   "language": "python",
   "name": "python3"
  },
  "language_info": {
   "codemirror_mode": {
    "name": "ipython",
    "version": 3
   },
   "file_extension": ".py",
   "mimetype": "text/x-python",
   "name": "python",
   "nbconvert_exporter": "python",
   "pygments_lexer": "ipython3",
   "version": "3.12.4"
  }
 },
 "nbformat": 4,
 "nbformat_minor": 5
}
