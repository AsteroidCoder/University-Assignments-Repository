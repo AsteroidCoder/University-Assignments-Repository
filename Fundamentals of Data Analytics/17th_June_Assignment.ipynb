{
 "cells": [
  {
   "cell_type": "markdown",
   "id": "dfd5709b",
   "metadata": {},
   "source": [
    "---\n",
    "# Written by Usama Azhar.\n",
    "# usamaazhar261@gmail.com\n",
    "---\n",
    "\n",
    "### Performing the Task 1: Dataset Selection and Exploration\n",
    "- Search for a time series dataset with a continuous target variable from reputable sources (e.g., \n",
    "Kaggle, UCI Machine Learning Repository, government databases).\n",
    "- The dataset should have at least 1000 data points and multiple features.\n",
    "- The target variable should be `continuous`.\n",
    "- Perform initial `Exploratory Data Analysis`, including `summary statistics` and `data visualizations`.\n",
    "- In your report, provide a comprehensive description of the chosen dataset.\n",
    "- Justify your choice of dataset in your report."
   ]
  },
  {
   "cell_type": "code",
   "execution_count": 1,
   "id": "f8e2a188",
   "metadata": {},
   "outputs": [],
   "source": [
    "# Importing the Libraries \n",
    "import pandas as pd \n",
    "import numpy as np\n",
    "import matplotlib.pyplot as plt\n",
    "import seaborn as sns\n",
    "\n",
    "import yfinance as yf"
   ]
  },
  {
   "cell_type": "code",
   "execution_count": 2,
   "id": "651cfb2f",
   "metadata": {},
   "outputs": [
    {
     "name": "stdout",
     "output_type": "stream",
     "text": [
      "YF.download() has changed argument auto_adjust default to True\n"
     ]
    },
    {
     "name": "stderr",
     "output_type": "stream",
     "text": [
      "[*********************100%***********************]  1 of 1 completed\n"
     ]
    }
   ],
   "source": [
    "# Importing the dataset\n",
    "df = yf.download('TSLA', start='2010-06-29', end='2023-12-31')"
   ]
  },
  {
   "cell_type": "code",
   "execution_count": 3,
   "id": "52878149",
   "metadata": {},
   "outputs": [
    {
     "data": {
      "application/vnd.microsoft.datawrangler.viewer.v0+json": {
       "columns": [
        {
         "name": "Date",
         "rawType": "datetime64[ns]",
         "type": "datetime"
        },
        {
         "name": "('Close', 'TSLA')",
         "rawType": "float64",
         "type": "float"
        },
        {
         "name": "('High', 'TSLA')",
         "rawType": "float64",
         "type": "float"
        },
        {
         "name": "('Low', 'TSLA')",
         "rawType": "float64",
         "type": "float"
        },
        {
         "name": "('Open', 'TSLA')",
         "rawType": "float64",
         "type": "float"
        },
        {
         "name": "('Volume', 'TSLA')",
         "rawType": "int64",
         "type": "integer"
        }
       ],
       "ref": "9123dab9-c212-4848-ab25-a5bdd43bf47a",
       "rows": [
        [
         "2010-06-29 00:00:00",
         "1.5926669836044312",
         "1.6666669845581055",
         "1.1693329811096191",
         "1.2666670083999634",
         "281494500"
        ],
        [
         "2010-06-30 00:00:00",
         "1.5886670351028442",
         "2.0280001163482666",
         "1.553333044052124",
         "1.7193330526351929",
         "257806500"
        ],
        [
         "2010-07-01 00:00:00",
         "1.4639999866485596",
         "1.7280000448226929",
         "1.3513330221176147",
         "1.6666669845581055",
         "123282000"
        ],
        [
         "2010-07-02 00:00:00",
         "1.2799999713897705",
         "1.5399999618530273",
         "1.24733304977417",
         "1.5333329439163208",
         "77097000"
        ],
        [
         "2010-07-06 00:00:00",
         "1.0740000009536743",
         "1.3333330154418945",
         "1.0553330183029175",
         "1.3333330154418945",
         "103003500"
        ]
       ],
       "shape": {
        "columns": 5,
        "rows": 5
       }
      },
      "text/html": [
       "<div>\n",
       "<style scoped>\n",
       "    .dataframe tbody tr th:only-of-type {\n",
       "        vertical-align: middle;\n",
       "    }\n",
       "\n",
       "    .dataframe tbody tr th {\n",
       "        vertical-align: top;\n",
       "    }\n",
       "\n",
       "    .dataframe thead tr th {\n",
       "        text-align: left;\n",
       "    }\n",
       "\n",
       "    .dataframe thead tr:last-of-type th {\n",
       "        text-align: right;\n",
       "    }\n",
       "</style>\n",
       "<table border=\"1\" class=\"dataframe\">\n",
       "  <thead>\n",
       "    <tr>\n",
       "      <th>Price</th>\n",
       "      <th>Close</th>\n",
       "      <th>High</th>\n",
       "      <th>Low</th>\n",
       "      <th>Open</th>\n",
       "      <th>Volume</th>\n",
       "    </tr>\n",
       "    <tr>\n",
       "      <th>Ticker</th>\n",
       "      <th>TSLA</th>\n",
       "      <th>TSLA</th>\n",
       "      <th>TSLA</th>\n",
       "      <th>TSLA</th>\n",
       "      <th>TSLA</th>\n",
       "    </tr>\n",
       "    <tr>\n",
       "      <th>Date</th>\n",
       "      <th></th>\n",
       "      <th></th>\n",
       "      <th></th>\n",
       "      <th></th>\n",
       "      <th></th>\n",
       "    </tr>\n",
       "  </thead>\n",
       "  <tbody>\n",
       "    <tr>\n",
       "      <th>2010-06-29</th>\n",
       "      <td>1.592667</td>\n",
       "      <td>1.666667</td>\n",
       "      <td>1.169333</td>\n",
       "      <td>1.266667</td>\n",
       "      <td>281494500</td>\n",
       "    </tr>\n",
       "    <tr>\n",
       "      <th>2010-06-30</th>\n",
       "      <td>1.588667</td>\n",
       "      <td>2.028000</td>\n",
       "      <td>1.553333</td>\n",
       "      <td>1.719333</td>\n",
       "      <td>257806500</td>\n",
       "    </tr>\n",
       "    <tr>\n",
       "      <th>2010-07-01</th>\n",
       "      <td>1.464000</td>\n",
       "      <td>1.728000</td>\n",
       "      <td>1.351333</td>\n",
       "      <td>1.666667</td>\n",
       "      <td>123282000</td>\n",
       "    </tr>\n",
       "    <tr>\n",
       "      <th>2010-07-02</th>\n",
       "      <td>1.280000</td>\n",
       "      <td>1.540000</td>\n",
       "      <td>1.247333</td>\n",
       "      <td>1.533333</td>\n",
       "      <td>77097000</td>\n",
       "    </tr>\n",
       "    <tr>\n",
       "      <th>2010-07-06</th>\n",
       "      <td>1.074000</td>\n",
       "      <td>1.333333</td>\n",
       "      <td>1.055333</td>\n",
       "      <td>1.333333</td>\n",
       "      <td>103003500</td>\n",
       "    </tr>\n",
       "  </tbody>\n",
       "</table>\n",
       "</div>"
      ],
      "text/plain": [
       "Price          Close      High       Low      Open     Volume\n",
       "Ticker          TSLA      TSLA      TSLA      TSLA       TSLA\n",
       "Date                                                         \n",
       "2010-06-29  1.592667  1.666667  1.169333  1.266667  281494500\n",
       "2010-06-30  1.588667  2.028000  1.553333  1.719333  257806500\n",
       "2010-07-01  1.464000  1.728000  1.351333  1.666667  123282000\n",
       "2010-07-02  1.280000  1.540000  1.247333  1.533333   77097000\n",
       "2010-07-06  1.074000  1.333333  1.055333  1.333333  103003500"
      ]
     },
     "execution_count": 3,
     "metadata": {},
     "output_type": "execute_result"
    }
   ],
   "source": [
    "df.head()"
   ]
  },
  {
   "cell_type": "code",
   "execution_count": 4,
   "id": "97d1d445",
   "metadata": {},
   "outputs": [
    {
     "name": "stdout",
     "output_type": "stream",
     "text": [
      "Original columns: MultiIndex([( 'Close', 'TSLA'),\n",
      "            (  'High', 'TSLA'),\n",
      "            (   'Low', 'TSLA'),\n",
      "            (  'Open', 'TSLA'),\n",
      "            ('Volume', 'TSLA')],\n",
      "           names=['Price', 'Ticker'])\n",
      "\n",
      "New Columns: Index(['Close', 'High', 'Low', 'Open', 'Volume'], dtype='object')\n"
     ]
    }
   ],
   "source": [
    "# My Current column names are Tuples\n",
    "print('Original columns:' , df.columns)\n",
    "# Creating a new list of names by taking the first item(Only Choosing Close, High, Low...) \n",
    "new_column_names = [col[0] for col in df.columns]\n",
    "# Assign the new clean list of names to my dataframe\n",
    "df.columns = new_column_names\n",
    "# Checking the result\n",
    "print('\\nNew Columns:', df.columns)"
   ]
  },
  {
   "cell_type": "code",
   "execution_count": 5,
   "id": "78f122b7",
   "metadata": {},
   "outputs": [
    {
     "data": {
      "application/vnd.microsoft.datawrangler.viewer.v0+json": {
       "columns": [
        {
         "name": "Date",
         "rawType": "datetime64[ns]",
         "type": "datetime"
        },
        {
         "name": "Close",
         "rawType": "float64",
         "type": "float"
        },
        {
         "name": "High",
         "rawType": "float64",
         "type": "float"
        },
        {
         "name": "Low",
         "rawType": "float64",
         "type": "float"
        },
        {
         "name": "Open",
         "rawType": "float64",
         "type": "float"
        },
        {
         "name": "Volume",
         "rawType": "int64",
         "type": "integer"
        }
       ],
       "ref": "ab0c6822-d1e8-4529-9466-597c5aa42ff6",
       "rows": [
        [
         "2010-06-29 00:00:00",
         "1.5926669836044312",
         "1.6666669845581055",
         "1.1693329811096191",
         "1.2666670083999634",
         "281494500"
        ],
        [
         "2010-06-30 00:00:00",
         "1.5886670351028442",
         "2.0280001163482666",
         "1.553333044052124",
         "1.7193330526351929",
         "257806500"
        ],
        [
         "2010-07-01 00:00:00",
         "1.4639999866485596",
         "1.7280000448226929",
         "1.3513330221176147",
         "1.6666669845581055",
         "123282000"
        ],
        [
         "2010-07-02 00:00:00",
         "1.2799999713897705",
         "1.5399999618530273",
         "1.24733304977417",
         "1.5333329439163208",
         "77097000"
        ],
        [
         "2010-07-06 00:00:00",
         "1.0740000009536743",
         "1.3333330154418945",
         "1.0553330183029175",
         "1.3333330154418945",
         "103003500"
        ]
       ],
       "shape": {
        "columns": 5,
        "rows": 5
       }
      },
      "text/html": [
       "<div>\n",
       "<style scoped>\n",
       "    .dataframe tbody tr th:only-of-type {\n",
       "        vertical-align: middle;\n",
       "    }\n",
       "\n",
       "    .dataframe tbody tr th {\n",
       "        vertical-align: top;\n",
       "    }\n",
       "\n",
       "    .dataframe thead th {\n",
       "        text-align: right;\n",
       "    }\n",
       "</style>\n",
       "<table border=\"1\" class=\"dataframe\">\n",
       "  <thead>\n",
       "    <tr style=\"text-align: right;\">\n",
       "      <th></th>\n",
       "      <th>Close</th>\n",
       "      <th>High</th>\n",
       "      <th>Low</th>\n",
       "      <th>Open</th>\n",
       "      <th>Volume</th>\n",
       "    </tr>\n",
       "    <tr>\n",
       "      <th>Date</th>\n",
       "      <th></th>\n",
       "      <th></th>\n",
       "      <th></th>\n",
       "      <th></th>\n",
       "      <th></th>\n",
       "    </tr>\n",
       "  </thead>\n",
       "  <tbody>\n",
       "    <tr>\n",
       "      <th>2010-06-29</th>\n",
       "      <td>1.592667</td>\n",
       "      <td>1.666667</td>\n",
       "      <td>1.169333</td>\n",
       "      <td>1.266667</td>\n",
       "      <td>281494500</td>\n",
       "    </tr>\n",
       "    <tr>\n",
       "      <th>2010-06-30</th>\n",
       "      <td>1.588667</td>\n",
       "      <td>2.028000</td>\n",
       "      <td>1.553333</td>\n",
       "      <td>1.719333</td>\n",
       "      <td>257806500</td>\n",
       "    </tr>\n",
       "    <tr>\n",
       "      <th>2010-07-01</th>\n",
       "      <td>1.464000</td>\n",
       "      <td>1.728000</td>\n",
       "      <td>1.351333</td>\n",
       "      <td>1.666667</td>\n",
       "      <td>123282000</td>\n",
       "    </tr>\n",
       "    <tr>\n",
       "      <th>2010-07-02</th>\n",
       "      <td>1.280000</td>\n",
       "      <td>1.540000</td>\n",
       "      <td>1.247333</td>\n",
       "      <td>1.533333</td>\n",
       "      <td>77097000</td>\n",
       "    </tr>\n",
       "    <tr>\n",
       "      <th>2010-07-06</th>\n",
       "      <td>1.074000</td>\n",
       "      <td>1.333333</td>\n",
       "      <td>1.055333</td>\n",
       "      <td>1.333333</td>\n",
       "      <td>103003500</td>\n",
       "    </tr>\n",
       "  </tbody>\n",
       "</table>\n",
       "</div>"
      ],
      "text/plain": [
       "               Close      High       Low      Open     Volume\n",
       "Date                                                         \n",
       "2010-06-29  1.592667  1.666667  1.169333  1.266667  281494500\n",
       "2010-06-30  1.588667  2.028000  1.553333  1.719333  257806500\n",
       "2010-07-01  1.464000  1.728000  1.351333  1.666667  123282000\n",
       "2010-07-02  1.280000  1.540000  1.247333  1.533333   77097000\n",
       "2010-07-06  1.074000  1.333333  1.055333  1.333333  103003500"
      ]
     },
     "execution_count": 5,
     "metadata": {},
     "output_type": "execute_result"
    }
   ],
   "source": [
    "df.head()"
   ]
  },
  {
   "cell_type": "code",
   "execution_count": 6,
   "id": "175f7248",
   "metadata": {},
   "outputs": [
    {
     "name": "stdout",
     "output_type": "stream",
     "text": [
      "            Closing Price  Daily High  Daily Low  Daily Open     Volume\n",
      "Date                                                                   \n",
      "2010-06-29       1.592667    1.666667   1.169333    1.266667  281494500\n",
      "2010-06-30       1.588667    2.028000   1.553333    1.719333  257806500\n",
      "2010-07-01       1.464000    1.728000   1.351333    1.666667  123282000\n",
      "2010-07-02       1.280000    1.540000   1.247333    1.533333   77097000\n",
      "2010-07-06       1.074000    1.333333   1.055333    1.333333  103003500\n"
     ]
    }
   ],
   "source": [
    "# Creating the dictionary for changing column names\n",
    "renamed_dict = {\n",
    "    'Close': 'Closing Price',\n",
    "    'High': 'Daily High',\n",
    "    'Low': 'Daily Low',\n",
    "    'Open': 'Daily Open',\n",
    "    'Volume': 'Volume'\n",
    "}\n",
    "\n",
    "df_renamed_columns = df.rename(columns=renamed_dict)\n",
    "\n",
    "print(df_renamed_columns.head())"
   ]
  },
  {
   "cell_type": "code",
   "execution_count": 7,
   "id": "a2f36842",
   "metadata": {},
   "outputs": [
    {
     "data": {
      "application/vnd.microsoft.datawrangler.viewer.v0+json": {
       "columns": [
        {
         "name": "Date",
         "rawType": "datetime64[ns]",
         "type": "datetime"
        },
        {
         "name": "Closing Price",
         "rawType": "float64",
         "type": "float"
        },
        {
         "name": "Daily High",
         "rawType": "float64",
         "type": "float"
        },
        {
         "name": "Daily Low",
         "rawType": "float64",
         "type": "float"
        },
        {
         "name": "Daily Open",
         "rawType": "float64",
         "type": "float"
        },
        {
         "name": "Volume",
         "rawType": "int64",
         "type": "integer"
        }
       ],
       "ref": "69efb3e5-0f63-40d3-9cd9-029d4e38128d",
       "rows": [
        [
         "2010-06-29 00:00:00",
         "1.5926669836044312",
         "1.6666669845581055",
         "1.1693329811096191",
         "1.2666670083999634",
         "281494500"
        ],
        [
         "2010-06-30 00:00:00",
         "1.5886670351028442",
         "2.0280001163482666",
         "1.553333044052124",
         "1.7193330526351929",
         "257806500"
        ],
        [
         "2010-07-01 00:00:00",
         "1.4639999866485596",
         "1.7280000448226929",
         "1.3513330221176147",
         "1.6666669845581055",
         "123282000"
        ],
        [
         "2010-07-02 00:00:00",
         "1.2799999713897705",
         "1.5399999618530273",
         "1.24733304977417",
         "1.5333329439163208",
         "77097000"
        ],
        [
         "2010-07-06 00:00:00",
         "1.0740000009536743",
         "1.3333330154418945",
         "1.0553330183029175",
         "1.3333330154418945",
         "103003500"
        ]
       ],
       "shape": {
        "columns": 5,
        "rows": 5
       }
      },
      "text/html": [
       "<div>\n",
       "<style scoped>\n",
       "    .dataframe tbody tr th:only-of-type {\n",
       "        vertical-align: middle;\n",
       "    }\n",
       "\n",
       "    .dataframe tbody tr th {\n",
       "        vertical-align: top;\n",
       "    }\n",
       "\n",
       "    .dataframe thead th {\n",
       "        text-align: right;\n",
       "    }\n",
       "</style>\n",
       "<table border=\"1\" class=\"dataframe\">\n",
       "  <thead>\n",
       "    <tr style=\"text-align: right;\">\n",
       "      <th></th>\n",
       "      <th>Closing Price</th>\n",
       "      <th>Daily High</th>\n",
       "      <th>Daily Low</th>\n",
       "      <th>Daily Open</th>\n",
       "      <th>Volume</th>\n",
       "    </tr>\n",
       "    <tr>\n",
       "      <th>Date</th>\n",
       "      <th></th>\n",
       "      <th></th>\n",
       "      <th></th>\n",
       "      <th></th>\n",
       "      <th></th>\n",
       "    </tr>\n",
       "  </thead>\n",
       "  <tbody>\n",
       "    <tr>\n",
       "      <th>2010-06-29</th>\n",
       "      <td>1.592667</td>\n",
       "      <td>1.666667</td>\n",
       "      <td>1.169333</td>\n",
       "      <td>1.266667</td>\n",
       "      <td>281494500</td>\n",
       "    </tr>\n",
       "    <tr>\n",
       "      <th>2010-06-30</th>\n",
       "      <td>1.588667</td>\n",
       "      <td>2.028000</td>\n",
       "      <td>1.553333</td>\n",
       "      <td>1.719333</td>\n",
       "      <td>257806500</td>\n",
       "    </tr>\n",
       "    <tr>\n",
       "      <th>2010-07-01</th>\n",
       "      <td>1.464000</td>\n",
       "      <td>1.728000</td>\n",
       "      <td>1.351333</td>\n",
       "      <td>1.666667</td>\n",
       "      <td>123282000</td>\n",
       "    </tr>\n",
       "    <tr>\n",
       "      <th>2010-07-02</th>\n",
       "      <td>1.280000</td>\n",
       "      <td>1.540000</td>\n",
       "      <td>1.247333</td>\n",
       "      <td>1.533333</td>\n",
       "      <td>77097000</td>\n",
       "    </tr>\n",
       "    <tr>\n",
       "      <th>2010-07-06</th>\n",
       "      <td>1.074000</td>\n",
       "      <td>1.333333</td>\n",
       "      <td>1.055333</td>\n",
       "      <td>1.333333</td>\n",
       "      <td>103003500</td>\n",
       "    </tr>\n",
       "  </tbody>\n",
       "</table>\n",
       "</div>"
      ],
      "text/plain": [
       "            Closing Price  Daily High  Daily Low  Daily Open     Volume\n",
       "Date                                                                   \n",
       "2010-06-29       1.592667    1.666667   1.169333    1.266667  281494500\n",
       "2010-06-30       1.588667    2.028000   1.553333    1.719333  257806500\n",
       "2010-07-01       1.464000    1.728000   1.351333    1.666667  123282000\n",
       "2010-07-02       1.280000    1.540000   1.247333    1.533333   77097000\n",
       "2010-07-06       1.074000    1.333333   1.055333    1.333333  103003500"
      ]
     },
     "execution_count": 7,
     "metadata": {},
     "output_type": "execute_result"
    }
   ],
   "source": [
    "df_renamed_columns.head()"
   ]
  },
  {
   "cell_type": "code",
   "execution_count": 8,
   "id": "8b6b9808",
   "metadata": {},
   "outputs": [
    {
     "name": "stdout",
     "output_type": "stream",
     "text": [
      "DataFrame after resetting index:\n",
      "        Date  Closing Price  Daily High  Daily Low  Daily Open     Volume\n",
      "0 2010-06-29       1.592667    1.666667   1.169333    1.266667  281494500\n",
      "1 2010-06-30       1.588667    2.028000   1.553333    1.719333  257806500\n",
      "2 2010-07-01       1.464000    1.728000   1.351333    1.666667  123282000\n",
      "3 2010-07-02       1.280000    1.540000   1.247333    1.533333   77097000\n",
      "4 2010-07-06       1.074000    1.333333   1.055333    1.333333  103003500\n"
     ]
    }
   ],
   "source": [
    "# Reseting the index, So i can preserve the Date Column\n",
    "df_with_date_column = df_renamed_columns.reset_index()\n",
    "# cross verifying\n",
    "print(\"DataFrame after resetting index:\")\n",
    "print(df_with_date_column.head())\n",
    "# Saving the dataset \n",
    "file_name = 'Stock_Data.csv'\n",
    "df_with_date_column.to_csv(file_name, index=False)"
   ]
  },
  {
   "cell_type": "code",
   "execution_count": 9,
   "id": "88ce7af4",
   "metadata": {},
   "outputs": [
    {
     "data": {
      "application/vnd.microsoft.datawrangler.viewer.v0+json": {
       "columns": [
        {
         "name": "index",
         "rawType": "int64",
         "type": "integer"
        },
        {
         "name": "Date",
         "rawType": "object",
         "type": "string"
        },
        {
         "name": "Closing Price",
         "rawType": "float64",
         "type": "float"
        },
        {
         "name": "Daily High",
         "rawType": "float64",
         "type": "float"
        },
        {
         "name": "Daily Low",
         "rawType": "float64",
         "type": "float"
        },
        {
         "name": "Daily Open",
         "rawType": "float64",
         "type": "float"
        },
        {
         "name": "Volume",
         "rawType": "int64",
         "type": "integer"
        }
       ],
       "ref": "a6952c14-b46c-4f3f-9921-fbd651b2c912",
       "rows": [
        [
         "0",
         "2010-06-29",
         "1.5926669836044312",
         "1.6666669845581057",
         "1.1693329811096191",
         "1.2666670083999634",
         "281494500"
        ],
        [
         "1",
         "2010-06-30",
         "1.5886670351028442",
         "2.0280001163482666",
         "1.553333044052124",
         "1.7193330526351929",
         "257806500"
        ],
        [
         "2",
         "2010-07-01",
         "1.4639999866485596",
         "1.7280000448226929",
         "1.3513330221176147",
         "1.6666669845581057",
         "123282000"
        ],
        [
         "3",
         "2010-07-02",
         "1.2799999713897705",
         "1.5399999618530271",
         "1.24733304977417",
         "1.5333329439163208",
         "77097000"
        ],
        [
         "4",
         "2010-07-06",
         "1.0740000009536743",
         "1.3333330154418943",
         "1.0553330183029177",
         "1.3333330154418943",
         "103003500"
        ]
       ],
       "shape": {
        "columns": 6,
        "rows": 5
       }
      },
      "text/html": [
       "<div>\n",
       "<style scoped>\n",
       "    .dataframe tbody tr th:only-of-type {\n",
       "        vertical-align: middle;\n",
       "    }\n",
       "\n",
       "    .dataframe tbody tr th {\n",
       "        vertical-align: top;\n",
       "    }\n",
       "\n",
       "    .dataframe thead th {\n",
       "        text-align: right;\n",
       "    }\n",
       "</style>\n",
       "<table border=\"1\" class=\"dataframe\">\n",
       "  <thead>\n",
       "    <tr style=\"text-align: right;\">\n",
       "      <th></th>\n",
       "      <th>Date</th>\n",
       "      <th>Closing Price</th>\n",
       "      <th>Daily High</th>\n",
       "      <th>Daily Low</th>\n",
       "      <th>Daily Open</th>\n",
       "      <th>Volume</th>\n",
       "    </tr>\n",
       "  </thead>\n",
       "  <tbody>\n",
       "    <tr>\n",
       "      <th>0</th>\n",
       "      <td>2010-06-29</td>\n",
       "      <td>1.592667</td>\n",
       "      <td>1.666667</td>\n",
       "      <td>1.169333</td>\n",
       "      <td>1.266667</td>\n",
       "      <td>281494500</td>\n",
       "    </tr>\n",
       "    <tr>\n",
       "      <th>1</th>\n",
       "      <td>2010-06-30</td>\n",
       "      <td>1.588667</td>\n",
       "      <td>2.028000</td>\n",
       "      <td>1.553333</td>\n",
       "      <td>1.719333</td>\n",
       "      <td>257806500</td>\n",
       "    </tr>\n",
       "    <tr>\n",
       "      <th>2</th>\n",
       "      <td>2010-07-01</td>\n",
       "      <td>1.464000</td>\n",
       "      <td>1.728000</td>\n",
       "      <td>1.351333</td>\n",
       "      <td>1.666667</td>\n",
       "      <td>123282000</td>\n",
       "    </tr>\n",
       "    <tr>\n",
       "      <th>3</th>\n",
       "      <td>2010-07-02</td>\n",
       "      <td>1.280000</td>\n",
       "      <td>1.540000</td>\n",
       "      <td>1.247333</td>\n",
       "      <td>1.533333</td>\n",
       "      <td>77097000</td>\n",
       "    </tr>\n",
       "    <tr>\n",
       "      <th>4</th>\n",
       "      <td>2010-07-06</td>\n",
       "      <td>1.074000</td>\n",
       "      <td>1.333333</td>\n",
       "      <td>1.055333</td>\n",
       "      <td>1.333333</td>\n",
       "      <td>103003500</td>\n",
       "    </tr>\n",
       "  </tbody>\n",
       "</table>\n",
       "</div>"
      ],
      "text/plain": [
       "         Date  Closing Price  Daily High  Daily Low  Daily Open     Volume\n",
       "0  2010-06-29       1.592667    1.666667   1.169333    1.266667  281494500\n",
       "1  2010-06-30       1.588667    2.028000   1.553333    1.719333  257806500\n",
       "2  2010-07-01       1.464000    1.728000   1.351333    1.666667  123282000\n",
       "3  2010-07-02       1.280000    1.540000   1.247333    1.533333   77097000\n",
       "4  2010-07-06       1.074000    1.333333   1.055333    1.333333  103003500"
      ]
     },
     "execution_count": 9,
     "metadata": {},
     "output_type": "execute_result"
    }
   ],
   "source": [
    "Data = pd.read_csv('Stock_Data.csv')\n",
    "Data.head()"
   ]
  },
  {
   "cell_type": "code",
   "execution_count": 10,
   "id": "f750ad21",
   "metadata": {},
   "outputs": [
    {
     "data": {
      "application/vnd.microsoft.datawrangler.viewer.v0+json": {
       "columns": [
        {
         "name": "index",
         "rawType": "int64",
         "type": "integer"
        },
        {
         "name": "Date",
         "rawType": "object",
         "type": "string"
        },
        {
         "name": "Closing Price",
         "rawType": "float64",
         "type": "float"
        },
        {
         "name": "Daily High",
         "rawType": "float64",
         "type": "float"
        },
        {
         "name": "Daily Low",
         "rawType": "float64",
         "type": "float"
        },
        {
         "name": "Daily Open",
         "rawType": "float64",
         "type": "float"
        },
        {
         "name": "Volume",
         "rawType": "int64",
         "type": "integer"
        }
       ],
       "ref": "f2899ac2-14f6-4692-898f-7311da8d68a2",
       "rows": [
        [
         "3395",
         "2023-12-22",
         "252.5399932861328",
         "258.2200012207031",
         "251.3699951171875",
         "256.760009765625",
         "93249800"
        ],
        [
         "3396",
         "2023-12-26",
         "256.6099853515625",
         "257.9700012207031",
         "252.91000366210935",
         "254.4900054931641",
         "86892400"
        ],
        [
         "3397",
         "2023-12-27",
         "261.44000244140625",
         "263.3399963378906",
         "257.5199890136719",
         "258.3500061035156",
         "106494400"
        ],
        [
         "3398",
         "2023-12-28",
         "253.17999267578125",
         "265.1300048828125",
         "252.7100067138672",
         "263.6600036621094",
         "113619900"
        ],
        [
         "3399",
         "2023-12-29",
         "248.47999572753903",
         "255.19000244140625",
         "247.42999267578125",
         "255.1000061035156",
         "100615300"
        ]
       ],
       "shape": {
        "columns": 6,
        "rows": 5
       }
      },
      "text/html": [
       "<div>\n",
       "<style scoped>\n",
       "    .dataframe tbody tr th:only-of-type {\n",
       "        vertical-align: middle;\n",
       "    }\n",
       "\n",
       "    .dataframe tbody tr th {\n",
       "        vertical-align: top;\n",
       "    }\n",
       "\n",
       "    .dataframe thead th {\n",
       "        text-align: right;\n",
       "    }\n",
       "</style>\n",
       "<table border=\"1\" class=\"dataframe\">\n",
       "  <thead>\n",
       "    <tr style=\"text-align: right;\">\n",
       "      <th></th>\n",
       "      <th>Date</th>\n",
       "      <th>Closing Price</th>\n",
       "      <th>Daily High</th>\n",
       "      <th>Daily Low</th>\n",
       "      <th>Daily Open</th>\n",
       "      <th>Volume</th>\n",
       "    </tr>\n",
       "  </thead>\n",
       "  <tbody>\n",
       "    <tr>\n",
       "      <th>3395</th>\n",
       "      <td>2023-12-22</td>\n",
       "      <td>252.539993</td>\n",
       "      <td>258.220001</td>\n",
       "      <td>251.369995</td>\n",
       "      <td>256.760010</td>\n",
       "      <td>93249800</td>\n",
       "    </tr>\n",
       "    <tr>\n",
       "      <th>3396</th>\n",
       "      <td>2023-12-26</td>\n",
       "      <td>256.609985</td>\n",
       "      <td>257.970001</td>\n",
       "      <td>252.910004</td>\n",
       "      <td>254.490005</td>\n",
       "      <td>86892400</td>\n",
       "    </tr>\n",
       "    <tr>\n",
       "      <th>3397</th>\n",
       "      <td>2023-12-27</td>\n",
       "      <td>261.440002</td>\n",
       "      <td>263.339996</td>\n",
       "      <td>257.519989</td>\n",
       "      <td>258.350006</td>\n",
       "      <td>106494400</td>\n",
       "    </tr>\n",
       "    <tr>\n",
       "      <th>3398</th>\n",
       "      <td>2023-12-28</td>\n",
       "      <td>253.179993</td>\n",
       "      <td>265.130005</td>\n",
       "      <td>252.710007</td>\n",
       "      <td>263.660004</td>\n",
       "      <td>113619900</td>\n",
       "    </tr>\n",
       "    <tr>\n",
       "      <th>3399</th>\n",
       "      <td>2023-12-29</td>\n",
       "      <td>248.479996</td>\n",
       "      <td>255.190002</td>\n",
       "      <td>247.429993</td>\n",
       "      <td>255.100006</td>\n",
       "      <td>100615300</td>\n",
       "    </tr>\n",
       "  </tbody>\n",
       "</table>\n",
       "</div>"
      ],
      "text/plain": [
       "            Date  Closing Price  Daily High   Daily Low  Daily Open     Volume\n",
       "3395  2023-12-22     252.539993  258.220001  251.369995  256.760010   93249800\n",
       "3396  2023-12-26     256.609985  257.970001  252.910004  254.490005   86892400\n",
       "3397  2023-12-27     261.440002  263.339996  257.519989  258.350006  106494400\n",
       "3398  2023-12-28     253.179993  265.130005  252.710007  263.660004  113619900\n",
       "3399  2023-12-29     248.479996  255.190002  247.429993  255.100006  100615300"
      ]
     },
     "execution_count": 10,
     "metadata": {},
     "output_type": "execute_result"
    }
   ],
   "source": [
    "Data.tail()"
   ]
  },
  {
   "cell_type": "code",
   "execution_count": 11,
   "id": "ef3e9f59",
   "metadata": {},
   "outputs": [
    {
     "name": "stdout",
     "output_type": "stream",
     "text": [
      "<class 'pandas.core.frame.DataFrame'>\n",
      "RangeIndex: 3400 entries, 0 to 3399\n",
      "Data columns (total 6 columns):\n",
      " #   Column         Non-Null Count  Dtype  \n",
      "---  ------         --------------  -----  \n",
      " 0   Date           3400 non-null   object \n",
      " 1   Closing Price  3400 non-null   float64\n",
      " 2   Daily High     3400 non-null   float64\n",
      " 3   Daily Low      3400 non-null   float64\n",
      " 4   Daily Open     3400 non-null   float64\n",
      " 5   Volume         3400 non-null   int64  \n",
      "dtypes: float64(4), int64(1), object(1)\n",
      "memory usage: 159.5+ KB\n"
     ]
    }
   ],
   "source": [
    "Data.info()"
   ]
  },
  {
   "cell_type": "code",
   "execution_count": 12,
   "id": "5cd295fb",
   "metadata": {},
   "outputs": [
    {
     "data": {
      "application/vnd.microsoft.datawrangler.viewer.v0+json": {
       "columns": [
        {
         "name": "index",
         "rawType": "object",
         "type": "string"
        },
        {
         "name": "Closing Price",
         "rawType": "float64",
         "type": "float"
        },
        {
         "name": "Daily High",
         "rawType": "float64",
         "type": "float"
        },
        {
         "name": "Daily Low",
         "rawType": "float64",
         "type": "float"
        },
        {
         "name": "Daily Open",
         "rawType": "float64",
         "type": "float"
        },
        {
         "name": "Volume",
         "rawType": "float64",
         "type": "float"
        }
       ],
       "ref": "24a07b35-6cc2-4574-ba6e-e71c308d6c40",
       "rows": [
        [
         "count",
         "3400.0",
         "3400.0",
         "3400.0",
         "3400.0",
         "3400.0"
        ],
        [
         "mean",
         "70.47424153650508",
         "72.048392902788",
         "68.81997310957487",
         "70.49399334704175",
         "96811665.3235294"
        ],
        [
         "std",
         "101.48083130606999",
         "103.82494901871584",
         "99.06638555840274",
         "101.55906143112495",
         "80048483.5459433"
        ],
        [
         "min",
         "1.053333044052124",
         "1.108667016029358",
         "0.9986670017242432",
         "1.0759999752044678",
         "1777500.0"
        ],
        [
         "25%",
         "10.779833316802979",
         "11.014166593551636",
         "10.417332649230957",
         "10.722500085830688",
         "45987750.0"
        ],
        [
         "50%",
         "16.92866611480713",
         "17.218667030334473",
         "16.679333686828613",
         "16.944000244140625",
         "81225000.0"
        ],
        [
         "75%",
         "108.3499984741211",
         "111.96249961853027",
         "104.22099876403809",
         "109.58399963378906",
         "123524900.0"
        ],
        [
         "max",
         "409.9700012207031",
         "414.4966735839844",
         "405.6666564941406",
         "411.4700012207031",
         "914082000.0"
        ]
       ],
       "shape": {
        "columns": 5,
        "rows": 8
       }
      },
      "text/html": [
       "<div>\n",
       "<style scoped>\n",
       "    .dataframe tbody tr th:only-of-type {\n",
       "        vertical-align: middle;\n",
       "    }\n",
       "\n",
       "    .dataframe tbody tr th {\n",
       "        vertical-align: top;\n",
       "    }\n",
       "\n",
       "    .dataframe thead th {\n",
       "        text-align: right;\n",
       "    }\n",
       "</style>\n",
       "<table border=\"1\" class=\"dataframe\">\n",
       "  <thead>\n",
       "    <tr style=\"text-align: right;\">\n",
       "      <th></th>\n",
       "      <th>Closing Price</th>\n",
       "      <th>Daily High</th>\n",
       "      <th>Daily Low</th>\n",
       "      <th>Daily Open</th>\n",
       "      <th>Volume</th>\n",
       "    </tr>\n",
       "  </thead>\n",
       "  <tbody>\n",
       "    <tr>\n",
       "      <th>count</th>\n",
       "      <td>3400.000000</td>\n",
       "      <td>3400.000000</td>\n",
       "      <td>3400.000000</td>\n",
       "      <td>3400.000000</td>\n",
       "      <td>3.400000e+03</td>\n",
       "    </tr>\n",
       "    <tr>\n",
       "      <th>mean</th>\n",
       "      <td>70.474242</td>\n",
       "      <td>72.048393</td>\n",
       "      <td>68.819973</td>\n",
       "      <td>70.493993</td>\n",
       "      <td>9.681167e+07</td>\n",
       "    </tr>\n",
       "    <tr>\n",
       "      <th>std</th>\n",
       "      <td>101.480831</td>\n",
       "      <td>103.824949</td>\n",
       "      <td>99.066386</td>\n",
       "      <td>101.559061</td>\n",
       "      <td>8.004848e+07</td>\n",
       "    </tr>\n",
       "    <tr>\n",
       "      <th>min</th>\n",
       "      <td>1.053333</td>\n",
       "      <td>1.108667</td>\n",
       "      <td>0.998667</td>\n",
       "      <td>1.076000</td>\n",
       "      <td>1.777500e+06</td>\n",
       "    </tr>\n",
       "    <tr>\n",
       "      <th>25%</th>\n",
       "      <td>10.779833</td>\n",
       "      <td>11.014167</td>\n",
       "      <td>10.417333</td>\n",
       "      <td>10.722500</td>\n",
       "      <td>4.598775e+07</td>\n",
       "    </tr>\n",
       "    <tr>\n",
       "      <th>50%</th>\n",
       "      <td>16.928666</td>\n",
       "      <td>17.218667</td>\n",
       "      <td>16.679334</td>\n",
       "      <td>16.944000</td>\n",
       "      <td>8.122500e+07</td>\n",
       "    </tr>\n",
       "    <tr>\n",
       "      <th>75%</th>\n",
       "      <td>108.349998</td>\n",
       "      <td>111.962500</td>\n",
       "      <td>104.220999</td>\n",
       "      <td>109.584000</td>\n",
       "      <td>1.235249e+08</td>\n",
       "    </tr>\n",
       "    <tr>\n",
       "      <th>max</th>\n",
       "      <td>409.970001</td>\n",
       "      <td>414.496674</td>\n",
       "      <td>405.666656</td>\n",
       "      <td>411.470001</td>\n",
       "      <td>9.140820e+08</td>\n",
       "    </tr>\n",
       "  </tbody>\n",
       "</table>\n",
       "</div>"
      ],
      "text/plain": [
       "       Closing Price   Daily High    Daily Low   Daily Open        Volume\n",
       "count    3400.000000  3400.000000  3400.000000  3400.000000  3.400000e+03\n",
       "mean       70.474242    72.048393    68.819973    70.493993  9.681167e+07\n",
       "std       101.480831   103.824949    99.066386   101.559061  8.004848e+07\n",
       "min         1.053333     1.108667     0.998667     1.076000  1.777500e+06\n",
       "25%        10.779833    11.014167    10.417333    10.722500  4.598775e+07\n",
       "50%        16.928666    17.218667    16.679334    16.944000  8.122500e+07\n",
       "75%       108.349998   111.962500   104.220999   109.584000  1.235249e+08\n",
       "max       409.970001   414.496674   405.666656   411.470001  9.140820e+08"
      ]
     },
     "execution_count": 12,
     "metadata": {},
     "output_type": "execute_result"
    }
   ],
   "source": [
    "# Summary Statistics\n",
    "\n",
    "Data.describe()"
   ]
  },
  {
   "cell_type": "code",
   "execution_count": 79,
   "id": "ebae9f47",
   "metadata": {},
   "outputs": [
    {
     "data": {
      "text/plain": [
       "(3400, 6)"
      ]
     },
     "execution_count": 79,
     "metadata": {},
     "output_type": "execute_result"
    }
   ],
   "source": [
    "Data.shape"
   ]
  },
  {
   "cell_type": "code",
   "execution_count": 80,
   "id": "e1727931",
   "metadata": {},
   "outputs": [
    {
     "data": {
      "text/plain": [
       "Index(['Date', 'Close', 'High', 'Low', 'Open', 'Volume'], dtype='object')"
      ]
     },
     "execution_count": 80,
     "metadata": {},
     "output_type": "execute_result"
    }
   ],
   "source": [
    "Data.columns"
   ]
  },
  {
   "cell_type": "code",
   "execution_count": 81,
   "id": "2fddaa2c",
   "metadata": {},
   "outputs": [
    {
     "data": {
      "application/vnd.microsoft.datawrangler.viewer.v0+json": {
       "columns": [
        {
         "name": "index",
         "rawType": "object",
         "type": "string"
        },
        {
         "name": "0",
         "rawType": "object",
         "type": "unknown"
        }
       ],
       "ref": "cda192d6-4760-465e-82da-4d3d285eb1bb",
       "rows": [
        [
         "Date",
         "object"
        ],
        [
         "Close",
         "float64"
        ],
        [
         "High",
         "float64"
        ],
        [
         "Low",
         "float64"
        ],
        [
         "Open",
         "float64"
        ],
        [
         "Volume",
         "int64"
        ]
       ],
       "shape": {
        "columns": 1,
        "rows": 6
       }
      },
      "text/plain": [
       "Date       object\n",
       "Close     float64\n",
       "High      float64\n",
       "Low       float64\n",
       "Open      float64\n",
       "Volume      int64\n",
       "dtype: object"
      ]
     },
     "execution_count": 81,
     "metadata": {},
     "output_type": "execute_result"
    }
   ],
   "source": [
    "Data.dtypes"
   ]
  },
  {
   "cell_type": "code",
   "execution_count": 13,
   "id": "8ab632a5",
   "metadata": {},
   "outputs": [],
   "source": [
    "# Date Column dtype is Object\n",
    "# I convert it Datetime 'to Calender Dates'\n",
    "\n",
    "Data['Date'] = pd.to_datetime(Data['Date'], errors='coerce')\n",
    "# Errors coerce means if it were not able to convert into Date, it will put a Nat(Not a time) value"
   ]
  },
  {
   "cell_type": "code",
   "execution_count": 14,
   "id": "3fceed25",
   "metadata": {},
   "outputs": [
    {
     "name": "stdout",
     "output_type": "stream",
     "text": [
      "<class 'pandas.core.frame.DataFrame'>\n",
      "RangeIndex: 3400 entries, 0 to 3399\n",
      "Data columns (total 6 columns):\n",
      " #   Column         Non-Null Count  Dtype         \n",
      "---  ------         --------------  -----         \n",
      " 0   Date           3400 non-null   datetime64[ns]\n",
      " 1   Closing Price  3400 non-null   float64       \n",
      " 2   Daily High     3400 non-null   float64       \n",
      " 3   Daily Low      3400 non-null   float64       \n",
      " 4   Daily Open     3400 non-null   float64       \n",
      " 5   Volume         3400 non-null   int64         \n",
      "dtypes: datetime64[ns](1), float64(4), int64(1)\n",
      "memory usage: 159.5 KB\n"
     ]
    }
   ],
   "source": [
    "Data.info()"
   ]
  },
  {
   "cell_type": "code",
   "execution_count": 84,
   "id": "26634f16",
   "metadata": {},
   "outputs": [
    {
     "data": {
      "application/vnd.microsoft.datawrangler.viewer.v0+json": {
       "columns": [
        {
         "name": "index",
         "rawType": "object",
         "type": "string"
        },
        {
         "name": "0",
         "rawType": "int64",
         "type": "integer"
        }
       ],
       "ref": "1ba4be3f-8148-459b-90db-3d84b0c3bdfd",
       "rows": [
        [
         "Date",
         "0"
        ],
        [
         "Close",
         "0"
        ],
        [
         "High",
         "0"
        ],
        [
         "Low",
         "0"
        ],
        [
         "Open",
         "0"
        ],
        [
         "Volume",
         "0"
        ]
       ],
       "shape": {
        "columns": 1,
        "rows": 6
       }
      },
      "text/plain": [
       "Date      0\n",
       "Close     0\n",
       "High      0\n",
       "Low       0\n",
       "Open      0\n",
       "Volume    0\n",
       "dtype: int64"
      ]
     },
     "execution_count": 84,
     "metadata": {},
     "output_type": "execute_result"
    }
   ],
   "source": [
    "# There are no missing/null values in our dataset\n",
    "Data.isnull().sum()"
   ]
  },
  {
   "cell_type": "code",
   "execution_count": 15,
   "id": "e2ea228e",
   "metadata": {},
   "outputs": [],
   "source": [
    "# Playing the Detective part \n",
    "# Choosing my Target Variable(Continous Variable)\n",
    "target_variable = 'Closing Price'"
   ]
  },
  {
   "cell_type": "code",
   "execution_count": 16,
   "id": "2a50d962",
   "metadata": {},
   "outputs": [
    {
     "data": {
      "text/plain": [
       "True"
      ]
     },
     "execution_count": 16,
     "metadata": {},
     "output_type": "execute_result"
    }
   ],
   "source": [
    "# Checking if the Target Variable exists or not \n",
    "# target_variable is 'Closing Price' column\n",
    "target_variable in Data.columns"
   ]
  },
  {
   "cell_type": "code",
   "execution_count": 87,
   "id": "4a9e1b11",
   "metadata": {},
   "outputs": [],
   "source": [
    "# https://pandas.pydata.org/docs/reference/api/pandas.api.types.is_datetime64_any_dtype.html\n",
    "# from pandas.api.types import is_datetime64_any_dtype\n",
    "# from pandas.core.dtypes.dtypes import DatetimeTZDtype"
   ]
  },
  {
   "cell_type": "code",
   "execution_count": 88,
   "id": "dbd08f33",
   "metadata": {},
   "outputs": [],
   "source": [
    "#if 'Date' in Data.columns and pd.api.types.is_datetime64_dtype_any_dtype(Data['Date']):\n",
    "#    print('True')\n",
    "#else:\n",
    "#    print('Its not there')"
   ]
  },
  {
   "cell_type": "code",
   "execution_count": 21,
   "id": "422d5784",
   "metadata": {},
   "outputs": [
    {
     "data": {
      "image/png": "[encoded data removed]",
      "text/plain": [
       "<Figure size 1400x600 with 1 Axes>"
      ]
     },
     "metadata": {},
     "output_type": "display_data"
    }
   ],
   "source": [
    "if 'Date' in Data.columns and target_variable in Data.columns and pd.api.types.is_datetime64_any_dtype(Data['Date']):\n",
    "    plt.figure(figsize=(14,6)) # Making the picture bigger\n",
    "    plt.plot(Data['Date'], Data[target_variable], label=f'{target_variable}')\n",
    "    plt.title(f'{target_variable} Over time') \n",
    "    plt.xlabel=('Date')\n",
    "    plt.ylabel=('Price')\n",
    "    plt.legend()\n",
    "    plt.grid(True)\n",
    "    plt.show()"
   ]
  },
  {
   "cell_type": "code",
   "execution_count": 17,
   "id": "b340dc65",
   "metadata": {},
   "outputs": [
    {
     "data": {
      "image/png": "[encoded data removed]",
      "text/plain": [
       "<Figure size 1000x500 with 1 Axes>"
      ]
     },
     "metadata": {},
     "output_type": "display_data"
    }
   ],
   "source": [
    "# Histogram of the target variable.\n",
    "# This shows us how often different price ranges appear.\n",
    "if target_variable in Data.columns and pd.api.types.is_numeric_dtype(Data[target_variable]):\n",
    "        plt.figure(figsize=(10, 5))\n",
    "        sns.histplot(Data[target_variable], kde=True, bins=50) # kde=True adds a smooth line\n",
    "        plt.title(f'Distribution of {target_variable}')\n",
    "        plt.xlabel('closing Price')\n",
    "        plt.ylabel('Frequency')\n",
    "        plt.show()"
   ]
  },
  {
   "cell_type": "code",
   "execution_count": 20,
   "id": "827d6957",
   "metadata": {},
   "outputs": [
    {
     "data": {
      "image/png": "[encoded data removed]",
      "text/plain": [
       "<Figure size 1500x800 with 1 Axes>"
      ]
     },
     "metadata": {},
     "output_type": "display_data"
    }
   ],
   "source": [
    "# Box plots for numerical features to see distributions and potential outliers.\n",
    "# Imagine a box that holds the middle 50% of your data. The line in the middle is the median (middle value).\n",
    "# The \"whiskers\" (lines sticking out) show the range, and dots outside are potential \"outliers\" (unusual values).\n",
    "numerical_cols = Data.select_dtypes(include=np.number).columns.tolist()\n",
    "if numerical_cols:\n",
    "        plt.figure(figsize=(15, 8))\n",
    "        Data[numerical_cols].boxplot()\n",
    "        plt.title('Box Plots of Numerical Features')\n",
    "        plt.xticks(rotation=45) # Rotate labels if they overlap\n",
    "        plt.show()"
   ]
  },
  {
   "cell_type": "code",
   "execution_count": null,
   "id": "8c9f35c3",
   "metadata": {},
   "outputs": [],
   "source": []
  },
  {
   "cell_type": "code",
   "execution_count": null,
   "metadata": {},
   "outputs": [],
   "source": []
  }
 ],
 "metadata": {
  "kernelspec": {
   "display_name": ".venv",
   "language": "python",
   "name": "python3"
  },
  "language_info": {
   "codemirror_mode": {
    "name": "ipython",
    "version": 3
   },
   "file_extension": ".py",
   "mimetype": "text/x-python",
   "name": "python",
   "nbconvert_exporter": "python",
   "pygments_lexer": "ipython3",
   "version": "3.12.4"
  }
 },
 "nbformat": 4,
 "nbformat_minor": 5
}
