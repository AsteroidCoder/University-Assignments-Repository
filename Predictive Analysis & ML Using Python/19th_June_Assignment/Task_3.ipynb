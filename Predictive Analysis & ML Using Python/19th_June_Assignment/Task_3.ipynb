{
 "cells": [
  {
   "cell_type": "markdown",
   "id": "f4563f67",
   "metadata": {},
   "source": [
    "### Task 3: Support Vector Machines"
   ]
  },
  {
   "cell_type": "code",
   "execution_count": null,
   "id": "5781cf59",
   "metadata": {},
   "outputs": [],
   "source": []
  }
 ],
 "metadata": {
  "language_info": {
   "name": "python"
  }
 },
 "nbformat": 4,
 "nbformat_minor": 5
}
